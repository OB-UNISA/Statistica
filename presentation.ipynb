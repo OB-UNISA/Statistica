{
 "cells": [
  {
   "cell_type": "markdown",
   "metadata": {
    "pycharm": {
     "name": "#%% md\n"
    }
   },
   "source": [
    "# Introduzione\n",
    "\n",
    "Il codice del progetto è open source con [licenza MIT](https://github.com/OB-UNISA/Statistica/blob/master/LICENSE) ed è possibile trovarlo al seguente link: [https://github.com/OB-UNISA/Statistica](https://github.com/OB-UNISA/Statistica)\n",
    "\n",
    "I dati unidimensionali esaminati sono quelli del peso corporeo nel periodo di tre anni di un uomo di età 24 attuali.  \n",
    "I dati bidimensionali riguardano il peso corporeo della medesima persona nello stesso periodo e le calorie assunte giornalmente.\n",
    "\n",
    "Il peso corporeo è stato registrato con due bilance differenti, una per il primo anno e un'altra nei restanti e quindi vi potrebbe essere una differenza di misura.  \n",
    "I dati dei primi mesi sulle calorie assunte non sono molto precisi in quanto la quantità del cibo non veniva pesata, ma approssimata.\n",
    "\n",
    "Allo stato dell'arte, importando i dati da Samsung Health, è possibile visualizzare le proprie statistiche. Questo potrebbe non funzionare in futuro se la forma dei dati venisse cambiata, ossia il parsing dei dati non funzionerebbe più. I commenti sui dati, tuttavia, risulteranno inefficienti in quanto non sono dinamici, bensì basati su un campione di esso.\n",
    "\n",
    "Poiché i dati sono molti riguardanti il peso corporeo, circa 500, e sulle calorie assunte, quasi 1000, ne verrà preso un campione calcolato nel seguente modo:\n",
    "* Per il peso corporeo, il campione sarà il peso medio delle pesate in ogni settimana.  \n",
    "  Quindi x_i = peso medio nella settimana i.\n",
    "* Per le calorie assunte, il campione sarà la media delle calorie assunte in ogni settimana.  \n",
    "  Quindi y_i = media delle calorie assunte nella settimana i.\n",
    "\n",
    "**Nota:** Se nella settimana i non vi sono dati sul peso, essa verrà saltata e quindi anche le rispettive calorie assunte.\n",
    "\n",
    "Si è deciso di usare la media campionaria e non la mediana perché i picchi di valore sono importanti da considerare."
   ]
  },
  {
   "cell_type": "markdown",
   "metadata": {
    "pycharm": {
     "name": "#%% md\n"
    }
   },
   "source": [
    "# Installazione dipendenze"
   ]
  },
  {
   "cell_type": "code",
   "execution_count": 71,
   "metadata": {
    "pycharm": {
     "name": "#%%\n"
    }
   },
   "outputs": [
    {
     "name": "stdout",
     "output_type": "stream",
     "text": [
      "Requirement already satisfied: matplotlib in c:\\python397\\lib\\site-packages (3.5.2)\n",
      "Requirement already satisfied: python-dateutil>=2.7 in c:\\python397\\lib\\site-packages (from matplotlib) (2.8.2)\n",
      "Requirement already satisfied: pillow>=6.2.0 in c:\\python397\\lib\\site-packages (from matplotlib) (9.1.1)\n",
      "Requirement already satisfied: pyparsing>=2.2.1 in c:\\python397\\lib\\site-packages (from matplotlib) (3.0.9)\n",
      "Requirement already satisfied: kiwisolver>=1.0.1 in c:\\python397\\lib\\site-packages (from matplotlib) (1.4.2)\n",
      "Requirement already satisfied: packaging>=20.0 in c:\\python397\\lib\\site-packages (from matplotlib) (21.3)\n",
      "Requirement already satisfied: cycler>=0.10 in c:\\python397\\lib\\site-packages (from matplotlib) (0.11.0)\n",
      "Requirement already satisfied: numpy>=1.17 in c:\\python397\\lib\\site-packages (from matplotlib) (1.22.4)\n",
      "Requirement already satisfied: fonttools>=4.22.0 in c:\\python397\\lib\\site-packages (from matplotlib) (4.33.3)\n",
      "Requirement already satisfied: six>=1.5 in c:\\python397\\lib\\site-packages (from python-dateutil>=2.7->matplotlib) (1.16.0)\n",
      "Requirement already satisfied: pandas in c:\\python397\\lib\\site-packages (1.4.2)\n",
      "Requirement already satisfied: numpy>=1.18.5 in c:\\python397\\lib\\site-packages (from pandas) (1.22.4)\n",
      "Requirement already satisfied: python-dateutil>=2.8.1 in c:\\python397\\lib\\site-packages (from pandas) (2.8.2)\n",
      "Requirement already satisfied: pytz>=2020.1 in c:\\python397\\lib\\site-packages (from pandas) (2022.1)\n",
      "Requirement already satisfied: six>=1.5 in c:\\python397\\lib\\site-packages (from python-dateutil>=2.8.1->pandas) (1.16.0)\n"
     ]
    }
   ],
   "source": [
    "!pip install matplotlib\n",
    "!pip install pandas"
   ]
  },
  {
   "cell_type": "code",
   "execution_count": 72,
   "metadata": {
    "pycharm": {
     "name": "#%%\n"
    }
   },
   "outputs": [],
   "source": [
    "import matplotlib.pyplot as plt\n",
    "import pandas as pd\n",
    "import csv"
   ]
  },
  {
   "cell_type": "markdown",
   "metadata": {
    "pycharm": {
     "name": "#%% md\n"
    }
   },
   "source": [
    "# Parsing dei dati del peso corporeo"
   ]
  },
  {
   "cell_type": "markdown",
   "metadata": {
    "pycharm": {
     "name": "#%% md\n"
    }
   },
   "source": [
    "È stato necessario arrotondare i valori del peso corporeo perché altrimenti si avrebbe avuto il numero di modalità del carattere quasi uguale all'ampiezza del dato."
   ]
  },
  {
   "cell_type": "code",
   "execution_count": 73,
   "metadata": {
    "pycharm": {
     "name": "#%%\n"
    }
   },
   "outputs": [
    {
     "data": {
      "text/plain": "             peso\ndata             \n2019-12-29  140.0\n2020-01-05    NaN\n2020-01-12  140.0\n2020-01-19    NaN\n2020-01-26  139.0\n...           ...\n2022-05-08  105.0\n2022-05-15  104.0\n2022-05-22  104.0\n2022-05-29  103.0\n2022-06-05  102.0\n\n[128 rows x 1 columns]",
      "text/html": "<div>\n<style scoped>\n    .dataframe tbody tr th:only-of-type {\n        vertical-align: middle;\n    }\n\n    .dataframe tbody tr th {\n        vertical-align: top;\n    }\n\n    .dataframe thead th {\n        text-align: right;\n    }\n</style>\n<table border=\"1\" class=\"dataframe\">\n  <thead>\n    <tr style=\"text-align: right;\">\n      <th></th>\n      <th>peso</th>\n    </tr>\n    <tr>\n      <th>data</th>\n      <th></th>\n    </tr>\n  </thead>\n  <tbody>\n    <tr>\n      <th>2019-12-29</th>\n      <td>140.0</td>\n    </tr>\n    <tr>\n      <th>2020-01-05</th>\n      <td>NaN</td>\n    </tr>\n    <tr>\n      <th>2020-01-12</th>\n      <td>140.0</td>\n    </tr>\n    <tr>\n      <th>2020-01-19</th>\n      <td>NaN</td>\n    </tr>\n    <tr>\n      <th>2020-01-26</th>\n      <td>139.0</td>\n    </tr>\n    <tr>\n      <th>...</th>\n      <td>...</td>\n    </tr>\n    <tr>\n      <th>2022-05-08</th>\n      <td>105.0</td>\n    </tr>\n    <tr>\n      <th>2022-05-15</th>\n      <td>104.0</td>\n    </tr>\n    <tr>\n      <th>2022-05-22</th>\n      <td>104.0</td>\n    </tr>\n    <tr>\n      <th>2022-05-29</th>\n      <td>103.0</td>\n    </tr>\n    <tr>\n      <th>2022-06-05</th>\n      <td>102.0</td>\n    </tr>\n  </tbody>\n</table>\n<p>128 rows × 1 columns</p>\n</div>"
     },
     "execution_count": 73,
     "metadata": {},
     "output_type": "execute_result"
    }
   ],
   "source": [
    "with open('peso.csv', 'r') as csvfile:\n",
    "    reader = csv.reader(csvfile, delimiter=',')\n",
    "    peso = []\n",
    "    reader.__next__()\n",
    "    reader.__next__()\n",
    "    for row in reader:\n",
    "        peso.append([row[6], float(row[4])])\n",
    "\n",
    "df_peso = pd.DataFrame(peso, columns=['data', 'peso'])\n",
    "df_peso['data'] = pd.to_datetime(df_peso['data'])\n",
    "df_peso = df_peso.groupby(pd.Grouper(key='data', freq='W')).mean().round(0)\n",
    "df_peso"
   ]
  },
  {
   "cell_type": "markdown",
   "source": [
    "Sono state eliminate le settimane in cui non vi erano dati."
   ],
   "metadata": {
    "collapsed": false,
    "pycharm": {
     "name": "#%% md\n"
    }
   }
  },
  {
   "cell_type": "code",
   "execution_count": 74,
   "outputs": [
    {
     "name": "stdout",
     "output_type": "stream",
     "text": [
      "Dimensione del dato: 115\n"
     ]
    },
    {
     "data": {
      "text/plain": "[102.0,\n 102.0,\n 103.0,\n 103.0,\n 103.0,\n 103.0,\n 103.0,\n 103.0,\n 103.0,\n 103.0,\n 103.0,\n 104.0,\n 104.0,\n 104.0,\n 104.0,\n 104.0,\n 104.0,\n 104.0,\n 104.0,\n 104.0,\n 105.0,\n 105.0,\n 105.0,\n 105.0,\n 105.0,\n 105.0,\n 105.0,\n 105.0,\n 105.0,\n 105.0,\n 106.0,\n 106.0,\n 106.0,\n 106.0,\n 106.0,\n 107.0,\n 107.0,\n 108.0,\n 108.0,\n 108.0,\n 109.0,\n 109.0,\n 110.0,\n 111.0,\n 111.0,\n 112.0,\n 112.0,\n 113.0,\n 114.0,\n 115.0,\n 116.0,\n 117.0,\n 117.0,\n 117.0,\n 117.0,\n 117.0,\n 117.0,\n 117.0,\n 118.0,\n 118.0,\n 118.0,\n 118.0,\n 118.0,\n 118.0,\n 118.0,\n 119.0,\n 120.0,\n 121.0,\n 121.0,\n 121.0,\n 121.0,\n 122.0,\n 122.0,\n 122.0,\n 122.0,\n 122.0,\n 123.0,\n 124.0,\n 124.0,\n 125.0,\n 125.0,\n 125.0,\n 126.0,\n 126.0,\n 126.0,\n 126.0,\n 126.0,\n 127.0,\n 127.0,\n 127.0,\n 128.0,\n 128.0,\n 129.0,\n 129.0,\n 129.0,\n 130.0,\n 130.0,\n 131.0,\n 131.0,\n 132.0,\n 132.0,\n 133.0,\n 133.0,\n 134.0,\n 134.0,\n 135.0,\n 136.0,\n 137.0,\n 137.0,\n 138.0,\n 138.0,\n 139.0,\n 139.0,\n 140.0,\n 140.0]"
     },
     "execution_count": 74,
     "metadata": {},
     "output_type": "execute_result"
    }
   ],
   "source": [
    "x_not_sorted = [p for p in df_peso['peso'] if pd.isnull(p) == False]\n",
    "x = sorted(x_not_sorted)\n",
    "n = len(x)\n",
    "print(f'Dimensione del dato: {n}')\n",
    "x"
   ],
   "metadata": {
    "collapsed": false,
    "pycharm": {
     "name": "#%%\n"
    }
   }
  },
  {
   "cell_type": "code",
   "execution_count": 75,
   "metadata": {
    "pycharm": {
     "name": "#%%\n"
    }
   },
   "outputs": [],
   "source": [
    "x_not_sorted = [p for p in df_peso['peso'] if pd.isnull(p) == False]\n",
    "x = sorted(x_not_sorted)\n",
    "n = len(x)\n",
    "print(f'Dimensione del dato: {n}')\n",
    "x"
   ]
  },
  {
   "cell_type": "markdown",
   "metadata": {
    "pycharm": {
     "name": "#%% md\n"
    }
   },
   "source": [
    "# Costruzione della tabella delle frequenze"
   ]
  },
  {
   "cell_type": "markdown",
   "metadata": {
    "pycharm": {
     "name": "#%% md\n"
    }
   },
   "source": [
    "### Calcolo delle modalità"
   ]
  },
  {
   "cell_type": "code",
   "execution_count": 76,
   "metadata": {
    "pycharm": {
     "name": "#%%\n"
    }
   },
   "outputs": [],
   "source": [
    "v_x = [x[0]]\n",
    "for i in range(1, len(x)):\n",
    "    if v_x[-1] != x[i]:\n",
    "        v_x.append(x[i])\n",
    "\n",
    "for i, v_i in enumerate(v_x):\n",
    "    print(f'v_{i + 1} = {v_i}')"
   ]
  },
  {
   "cell_type": "markdown",
   "metadata": {
    "pycharm": {
     "name": "#%% md\n"
    }
   },
   "source": [
    "### Calcolo della frequenza assoluta delle modalità"
   ]
  },
  {
   "cell_type": "code",
   "execution_count": 77,
   "metadata": {
    "pycharm": {
     "name": "#%%\n"
    }
   },
   "outputs": [],
   "source": [
    "f_x = [1]\n",
    "for i in range(1, len(x)):\n",
    "    if x[i - 1] == x[i]:\n",
    "        f_x[-1] += 1\n",
    "    else:\n",
    "        f_x.append(1)\n",
    "\n",
    "for i, f_i in enumerate(f_x):\n",
    "    print(f'f_{i + 1} = {f_i}')"
   ]
  },
  {
   "cell_type": "markdown",
   "metadata": {
    "pycharm": {
     "name": "#%% md\n"
    }
   },
   "source": [
    "### Calcolo della frequenza cumulativa assoluta delle modalità"
   ]
  },
  {
   "cell_type": "code",
   "execution_count": 78,
   "metadata": {
    "pycharm": {
     "name": "#%%\n"
    }
   },
   "outputs": [],
   "source": [
    "F_x = [f_x[0]]\n",
    "for i in range(1, len(f_x)):\n",
    "    # Uso della relazione di ricorrenza\n",
    "    F_x.append(F_x[-1] + f_x[i])\n",
    "\n",
    "for i, F_i in enumerate(F_x):\n",
    "    print(f'F_{i + 1} = {F_i}')"
   ]
  },
  {
   "cell_type": "markdown",
   "metadata": {
    "pycharm": {
     "name": "#%% md\n"
    }
   },
   "source": [
    "### Calcolo della frequenza relativa delle modalità"
   ]
  },
  {
   "cell_type": "code",
   "execution_count": 79,
   "metadata": {
    "pycharm": {
     "name": "#%%\n"
    }
   },
   "outputs": [],
   "source": [
    "p_x = []\n",
    "for f_i in f_x:\n",
    "    p_x.append(f_i / n)\n",
    "\n",
    "for i, p_i in enumerate(p_x):\n",
    "    print(f'p_{i + 1} = {p_i}')"
   ]
  },
  {
   "cell_type": "markdown",
   "metadata": {
    "pycharm": {
     "name": "#%% md\n"
    }
   },
   "source": [
    "### Calcolo della frequenza cumulativa relativa delle modalità"
   ]
  },
  {
   "cell_type": "code",
   "execution_count": 80,
   "metadata": {
    "pycharm": {
     "name": "#%%\n"
    }
   },
   "outputs": [],
   "source": [
    "P_x = []\n",
    "for F_i in F_x:\n",
    "    P_x.append(F_i / n)\n",
    "\n",
    "for i, P_i in enumerate(P_x):\n",
    "    print(f'P_{i + 1} = {P_i}')"
   ]
  },
  {
   "cell_type": "markdown",
   "metadata": {
    "pycharm": {
     "name": "#%% md\n"
    }
   },
   "source": [
    "### Tabella delle frequenze"
   ]
  },
  {
   "cell_type": "code",
   "execution_count": 70,
   "metadata": {
    "pycharm": {
     "name": "#%%\n"
    }
   },
   "outputs": [
    {
     "data": {
      "text/html": [
       "<div>\n",
       "<style scoped>\n",
       "    .dataframe tbody tr th:only-of-type {\n",
       "        vertical-align: middle;\n",
       "    }\n",
       "\n",
       "    .dataframe tbody tr th {\n",
       "        vertical-align: top;\n",
       "    }\n",
       "\n",
       "    .dataframe thead th {\n",
       "        text-align: right;\n",
       "    }\n",
       "</style>\n",
       "<table border=\"1\" class=\"dataframe\">\n",
       "  <thead>\n",
       "    <tr style=\"text-align: right;\">\n",
       "      <th></th>\n",
       "      <th>v_i</th>\n",
       "      <th>f_i</th>\n",
       "      <th>p_i</th>\n",
       "      <th>F_i</th>\n",
       "      <th>P_i</th>\n",
       "    </tr>\n",
       "    <tr>\n",
       "      <th>i</th>\n",
       "      <th></th>\n",
       "      <th></th>\n",
       "      <th></th>\n",
       "      <th></th>\n",
       "      <th></th>\n",
       "    </tr>\n",
       "  </thead>\n",
       "  <tbody>\n",
       "    <tr>\n",
       "      <th>1</th>\n",
       "      <td>102.0</td>\n",
       "      <td>2</td>\n",
       "      <td>0.017391</td>\n",
       "      <td>2</td>\n",
       "      <td>0.017391</td>\n",
       "    </tr>\n",
       "    <tr>\n",
       "      <th>2</th>\n",
       "      <td>103.0</td>\n",
       "      <td>9</td>\n",
       "      <td>0.078261</td>\n",
       "      <td>11</td>\n",
       "      <td>0.095652</td>\n",
       "    </tr>\n",
       "    <tr>\n",
       "      <th>3</th>\n",
       "      <td>104.0</td>\n",
       "      <td>9</td>\n",
       "      <td>0.078261</td>\n",
       "      <td>20</td>\n",
       "      <td>0.173913</td>\n",
       "    </tr>\n",
       "    <tr>\n",
       "      <th>4</th>\n",
       "      <td>105.0</td>\n",
       "      <td>10</td>\n",
       "      <td>0.086957</td>\n",
       "      <td>30</td>\n",
       "      <td>0.260870</td>\n",
       "    </tr>\n",
       "    <tr>\n",
       "      <th>5</th>\n",
       "      <td>106.0</td>\n",
       "      <td>5</td>\n",
       "      <td>0.043478</td>\n",
       "      <td>35</td>\n",
       "      <td>0.304348</td>\n",
       "    </tr>\n",
       "    <tr>\n",
       "      <th>6</th>\n",
       "      <td>107.0</td>\n",
       "      <td>2</td>\n",
       "      <td>0.017391</td>\n",
       "      <td>37</td>\n",
       "      <td>0.321739</td>\n",
       "    </tr>\n",
       "    <tr>\n",
       "      <th>7</th>\n",
       "      <td>108.0</td>\n",
       "      <td>3</td>\n",
       "      <td>0.026087</td>\n",
       "      <td>40</td>\n",
       "      <td>0.347826</td>\n",
       "    </tr>\n",
       "    <tr>\n",
       "      <th>8</th>\n",
       "      <td>109.0</td>\n",
       "      <td>2</td>\n",
       "      <td>0.017391</td>\n",
       "      <td>42</td>\n",
       "      <td>0.365217</td>\n",
       "    </tr>\n",
       "    <tr>\n",
       "      <th>9</th>\n",
       "      <td>110.0</td>\n",
       "      <td>1</td>\n",
       "      <td>0.008696</td>\n",
       "      <td>43</td>\n",
       "      <td>0.373913</td>\n",
       "    </tr>\n",
       "    <tr>\n",
       "      <th>10</th>\n",
       "      <td>111.0</td>\n",
       "      <td>2</td>\n",
       "      <td>0.017391</td>\n",
       "      <td>45</td>\n",
       "      <td>0.391304</td>\n",
       "    </tr>\n",
       "    <tr>\n",
       "      <th>11</th>\n",
       "      <td>112.0</td>\n",
       "      <td>2</td>\n",
       "      <td>0.017391</td>\n",
       "      <td>47</td>\n",
       "      <td>0.408696</td>\n",
       "    </tr>\n",
       "    <tr>\n",
       "      <th>12</th>\n",
       "      <td>113.0</td>\n",
       "      <td>1</td>\n",
       "      <td>0.008696</td>\n",
       "      <td>48</td>\n",
       "      <td>0.417391</td>\n",
       "    </tr>\n",
       "    <tr>\n",
       "      <th>13</th>\n",
       "      <td>114.0</td>\n",
       "      <td>1</td>\n",
       "      <td>0.008696</td>\n",
       "      <td>49</td>\n",
       "      <td>0.426087</td>\n",
       "    </tr>\n",
       "    <tr>\n",
       "      <th>14</th>\n",
       "      <td>115.0</td>\n",
       "      <td>1</td>\n",
       "      <td>0.008696</td>\n",
       "      <td>50</td>\n",
       "      <td>0.434783</td>\n",
       "    </tr>\n",
       "    <tr>\n",
       "      <th>15</th>\n",
       "      <td>116.0</td>\n",
       "      <td>1</td>\n",
       "      <td>0.008696</td>\n",
       "      <td>51</td>\n",
       "      <td>0.443478</td>\n",
       "    </tr>\n",
       "    <tr>\n",
       "      <th>16</th>\n",
       "      <td>117.0</td>\n",
       "      <td>7</td>\n",
       "      <td>0.060870</td>\n",
       "      <td>58</td>\n",
       "      <td>0.504348</td>\n",
       "    </tr>\n",
       "    <tr>\n",
       "      <th>17</th>\n",
       "      <td>118.0</td>\n",
       "      <td>7</td>\n",
       "      <td>0.060870</td>\n",
       "      <td>65</td>\n",
       "      <td>0.565217</td>\n",
       "    </tr>\n",
       "    <tr>\n",
       "      <th>18</th>\n",
       "      <td>119.0</td>\n",
       "      <td>1</td>\n",
       "      <td>0.008696</td>\n",
       "      <td>66</td>\n",
       "      <td>0.573913</td>\n",
       "    </tr>\n",
       "    <tr>\n",
       "      <th>19</th>\n",
       "      <td>120.0</td>\n",
       "      <td>1</td>\n",
       "      <td>0.008696</td>\n",
       "      <td>67</td>\n",
       "      <td>0.582609</td>\n",
       "    </tr>\n",
       "    <tr>\n",
       "      <th>20</th>\n",
       "      <td>121.0</td>\n",
       "      <td>4</td>\n",
       "      <td>0.034783</td>\n",
       "      <td>71</td>\n",
       "      <td>0.617391</td>\n",
       "    </tr>\n",
       "    <tr>\n",
       "      <th>21</th>\n",
       "      <td>122.0</td>\n",
       "      <td>5</td>\n",
       "      <td>0.043478</td>\n",
       "      <td>76</td>\n",
       "      <td>0.660870</td>\n",
       "    </tr>\n",
       "    <tr>\n",
       "      <th>22</th>\n",
       "      <td>123.0</td>\n",
       "      <td>1</td>\n",
       "      <td>0.008696</td>\n",
       "      <td>77</td>\n",
       "      <td>0.669565</td>\n",
       "    </tr>\n",
       "    <tr>\n",
       "      <th>23</th>\n",
       "      <td>124.0</td>\n",
       "      <td>2</td>\n",
       "      <td>0.017391</td>\n",
       "      <td>79</td>\n",
       "      <td>0.686957</td>\n",
       "    </tr>\n",
       "    <tr>\n",
       "      <th>24</th>\n",
       "      <td>125.0</td>\n",
       "      <td>3</td>\n",
       "      <td>0.026087</td>\n",
       "      <td>82</td>\n",
       "      <td>0.713043</td>\n",
       "    </tr>\n",
       "    <tr>\n",
       "      <th>25</th>\n",
       "      <td>126.0</td>\n",
       "      <td>5</td>\n",
       "      <td>0.043478</td>\n",
       "      <td>87</td>\n",
       "      <td>0.756522</td>\n",
       "    </tr>\n",
       "    <tr>\n",
       "      <th>26</th>\n",
       "      <td>127.0</td>\n",
       "      <td>3</td>\n",
       "      <td>0.026087</td>\n",
       "      <td>90</td>\n",
       "      <td>0.782609</td>\n",
       "    </tr>\n",
       "    <tr>\n",
       "      <th>27</th>\n",
       "      <td>128.0</td>\n",
       "      <td>2</td>\n",
       "      <td>0.017391</td>\n",
       "      <td>92</td>\n",
       "      <td>0.800000</td>\n",
       "    </tr>\n",
       "    <tr>\n",
       "      <th>28</th>\n",
       "      <td>129.0</td>\n",
       "      <td>3</td>\n",
       "      <td>0.026087</td>\n",
       "      <td>95</td>\n",
       "      <td>0.826087</td>\n",
       "    </tr>\n",
       "    <tr>\n",
       "      <th>29</th>\n",
       "      <td>130.0</td>\n",
       "      <td>2</td>\n",
       "      <td>0.017391</td>\n",
       "      <td>97</td>\n",
       "      <td>0.843478</td>\n",
       "    </tr>\n",
       "    <tr>\n",
       "      <th>30</th>\n",
       "      <td>131.0</td>\n",
       "      <td>2</td>\n",
       "      <td>0.017391</td>\n",
       "      <td>99</td>\n",
       "      <td>0.860870</td>\n",
       "    </tr>\n",
       "    <tr>\n",
       "      <th>31</th>\n",
       "      <td>132.0</td>\n",
       "      <td>2</td>\n",
       "      <td>0.017391</td>\n",
       "      <td>101</td>\n",
       "      <td>0.878261</td>\n",
       "    </tr>\n",
       "    <tr>\n",
       "      <th>32</th>\n",
       "      <td>133.0</td>\n",
       "      <td>2</td>\n",
       "      <td>0.017391</td>\n",
       "      <td>103</td>\n",
       "      <td>0.895652</td>\n",
       "    </tr>\n",
       "    <tr>\n",
       "      <th>33</th>\n",
       "      <td>134.0</td>\n",
       "      <td>2</td>\n",
       "      <td>0.017391</td>\n",
       "      <td>105</td>\n",
       "      <td>0.913043</td>\n",
       "    </tr>\n",
       "    <tr>\n",
       "      <th>34</th>\n",
       "      <td>135.0</td>\n",
       "      <td>1</td>\n",
       "      <td>0.008696</td>\n",
       "      <td>106</td>\n",
       "      <td>0.921739</td>\n",
       "    </tr>\n",
       "    <tr>\n",
       "      <th>35</th>\n",
       "      <td>136.0</td>\n",
       "      <td>1</td>\n",
       "      <td>0.008696</td>\n",
       "      <td>107</td>\n",
       "      <td>0.930435</td>\n",
       "    </tr>\n",
       "    <tr>\n",
       "      <th>36</th>\n",
       "      <td>137.0</td>\n",
       "      <td>2</td>\n",
       "      <td>0.017391</td>\n",
       "      <td>109</td>\n",
       "      <td>0.947826</td>\n",
       "    </tr>\n",
       "    <tr>\n",
       "      <th>37</th>\n",
       "      <td>138.0</td>\n",
       "      <td>2</td>\n",
       "      <td>0.017391</td>\n",
       "      <td>111</td>\n",
       "      <td>0.965217</td>\n",
       "    </tr>\n",
       "    <tr>\n",
       "      <th>38</th>\n",
       "      <td>139.0</td>\n",
       "      <td>2</td>\n",
       "      <td>0.017391</td>\n",
       "      <td>113</td>\n",
       "      <td>0.982609</td>\n",
       "    </tr>\n",
       "    <tr>\n",
       "      <th>39</th>\n",
       "      <td>140.0</td>\n",
       "      <td>2</td>\n",
       "      <td>0.017391</td>\n",
       "      <td>115</td>\n",
       "      <td>1.000000</td>\n",
       "    </tr>\n",
       "  </tbody>\n",
       "</table>\n",
       "</div>"
      ],
      "text/plain": [
       "      v_i  f_i       p_i  F_i       P_i\n",
       "i                                      \n",
       "1   102.0    2  0.017391    2  0.017391\n",
       "2   103.0    9  0.078261   11  0.095652\n",
       "3   104.0    9  0.078261   20  0.173913\n",
       "4   105.0   10  0.086957   30  0.260870\n",
       "5   106.0    5  0.043478   35  0.304348\n",
       "6   107.0    2  0.017391   37  0.321739\n",
       "7   108.0    3  0.026087   40  0.347826\n",
       "8   109.0    2  0.017391   42  0.365217\n",
       "9   110.0    1  0.008696   43  0.373913\n",
       "10  111.0    2  0.017391   45  0.391304\n",
       "11  112.0    2  0.017391   47  0.408696\n",
       "12  113.0    1  0.008696   48  0.417391\n",
       "13  114.0    1  0.008696   49  0.426087\n",
       "14  115.0    1  0.008696   50  0.434783\n",
       "15  116.0    1  0.008696   51  0.443478\n",
       "16  117.0    7  0.060870   58  0.504348\n",
       "17  118.0    7  0.060870   65  0.565217\n",
       "18  119.0    1  0.008696   66  0.573913\n",
       "19  120.0    1  0.008696   67  0.582609\n",
       "20  121.0    4  0.034783   71  0.617391\n",
       "21  122.0    5  0.043478   76  0.660870\n",
       "22  123.0    1  0.008696   77  0.669565\n",
       "23  124.0    2  0.017391   79  0.686957\n",
       "24  125.0    3  0.026087   82  0.713043\n",
       "25  126.0    5  0.043478   87  0.756522\n",
       "26  127.0    3  0.026087   90  0.782609\n",
       "27  128.0    2  0.017391   92  0.800000\n",
       "28  129.0    3  0.026087   95  0.826087\n",
       "29  130.0    2  0.017391   97  0.843478\n",
       "30  131.0    2  0.017391   99  0.860870\n",
       "31  132.0    2  0.017391  101  0.878261\n",
       "32  133.0    2  0.017391  103  0.895652\n",
       "33  134.0    2  0.017391  105  0.913043\n",
       "34  135.0    1  0.008696  106  0.921739\n",
       "35  136.0    1  0.008696  107  0.930435\n",
       "36  137.0    2  0.017391  109  0.947826\n",
       "37  138.0    2  0.017391  111  0.965217\n",
       "38  139.0    2  0.017391  113  0.982609\n",
       "39  140.0    2  0.017391  115  1.000000"
      ]
     },
     "execution_count": 70,
     "metadata": {},
     "output_type": "execute_result"
    }
   ],
   "source": [
    "table = []\n",
    "for i in range(len(v_x)):\n",
    "    table.append([i + 1, v_x[i], f_x[i], p_x[i], F_x[i], P_x[i]])\n",
    "\n",
    "df = pd.DataFrame(table, columns=['i', 'v_i', 'f_i', 'p_i', 'F_i', 'P_i'])\n",
    "df.set_index('i', inplace=True)\n",
    "df"
   ]
  }
 ],
 "metadata": {
  "kernelspec": {
   "display_name": "Python 3 (ipykernel)",
   "language": "python",
   "name": "python3"
  },
  "language_info": {
   "codemirror_mode": {
    "name": "ipython",
    "version": 3
   },
   "file_extension": ".py",
   "mimetype": "text/x-python",
   "name": "python",
   "nbconvert_exporter": "python",
   "pygments_lexer": "ipython3",
   "version": "3.9.7"
  }
 },
 "nbformat": 4,
 "nbformat_minor": 1
}