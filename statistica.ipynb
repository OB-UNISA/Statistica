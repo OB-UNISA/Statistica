{
 "cells": [
  {
   "cell_type": "markdown",
   "metadata": {
    "pycharm": {
     "name": "#%% md\n"
    }
   },
   "source": [
    "# Introduzione\n",
    "\n",
    "E' possibile visualizzare una versione interattiva online al seguente link: [https://datalore.jetbrains.com/view/notebook/GQXk2hvnZKIYoLvF0B9nsZ](https://datalore.jetbrains.com/view/notebook/GQXk2hvnZKIYoLvF0B9nsZ).\n",
    "\n",
    "I dati unidimensionali esaminati sono quelli del peso corporeo nel periodo di due anni e mezzo di un uomo di età 24 attuali.  \n",
    "I dati bidimensionali riguardano il peso corporeo della medesima persona nello stesso periodo e le calorie assunte giornalmente.\n",
    "\n",
    "Il peso corporeo è stato registrato con due bilance differenti, una per il primo anno e un'altra nei restanti e quindi vi potrebbe essere una differenza di misura.  \n",
    "I dati dei primi mesi sulle calorie assunte non sono molto precisi in quanto la quantità del cibo non veniva pesata, ma approssimata.\n",
    "\n",
    "Allo stato dell'arte, importando i dati da Samsung Health, è possibile visualizzare le proprie statistiche. Questo potrebbe non funzionare in futuro se la forma dei dati venisse cambiata, ossia il parsing dei dati non funzionerebbe più. I commenti sui dati, tuttavia, risulteranno inefficienti in quanto i più significativi non sono dinamici, bensì basati su un campione di esso.\n",
    "\n",
    "Poiché i dati sono molti riguardanti il peso corporeo, circa 500, e sulle calorie assunte, quasi 13000, ne verrà preso un campione calcolato nel seguente modo:\n",
    "* Per il peso corporeo, il campione sarà il peso medio delle pesate in ogni settimana.  \n",
    "  Quindi x_i = peso medio nella settimana i.\n",
    "* Per le calorie assunte, il campione sarà la media delle calorie assunte in ogni settimana.  \n",
    "  Quindi y_i = media delle calorie assunte nella settimana i.\n",
    "\n",
    "**Nota:** Se nella settimana i non vi sono dati sul peso, essa verrà saltata e quindi anche le rispettive calorie assunte.\n",
    "\n",
    "Si è deciso di usare la media campionaria e non la mediana perché i picchi di valore sono importanti da considerare."
   ]
  },
  {
   "cell_type": "markdown",
   "metadata": {
    "pycharm": {
     "name": "#%% md\n"
    }
   },
   "source": [
    "# Installazione dipendenze"
   ]
  },
  {
   "cell_type": "code",
   "execution_count": 1,
   "metadata": {
    "pycharm": {
     "name": "#%%\n"
    }
   },
   "outputs": [
    {
     "name": "stdout",
     "output_type": "stream",
     "text": [
      "Requirement already satisfied: matplotlib in c:\\python397\\lib\\site-packages (3.5.2)\n",
      "Requirement already satisfied: kiwisolver>=1.0.1 in c:\\python397\\lib\\site-packages (from matplotlib) (1.4.2)\n",
      "Requirement already satisfied: pillow>=6.2.0 in c:\\python397\\lib\\site-packages (from matplotlib) (9.1.1)\n",
      "Requirement already satisfied: fonttools>=4.22.0 in c:\\python397\\lib\\site-packages (from matplotlib) (4.33.3)\n",
      "Requirement already satisfied: cycler>=0.10 in c:\\python397\\lib\\site-packages (from matplotlib) (0.11.0)\n",
      "Requirement already satisfied: pyparsing>=2.2.1 in c:\\python397\\lib\\site-packages (from matplotlib) (3.0.9)\n",
      "Requirement already satisfied: numpy>=1.17 in c:\\python397\\lib\\site-packages (from matplotlib) (1.22.4)\n",
      "Requirement already satisfied: python-dateutil>=2.7 in c:\\python397\\lib\\site-packages (from matplotlib) (2.8.2)\n",
      "Requirement already satisfied: packaging>=20.0 in c:\\python397\\lib\\site-packages (from matplotlib) (21.3)\n",
      "Requirement already satisfied: six>=1.5 in c:\\python397\\lib\\site-packages (from python-dateutil>=2.7->matplotlib) (1.16.0)\n",
      "Requirement already satisfied: pandas in c:\\python397\\lib\\site-packages (1.4.2)\n",
      "Requirement already satisfied: python-dateutil>=2.8.1 in c:\\python397\\lib\\site-packages (from pandas) (2.8.2)\n",
      "Requirement already satisfied: numpy>=1.18.5 in c:\\python397\\lib\\site-packages (from pandas) (1.22.4)\n",
      "Requirement already satisfied: pytz>=2020.1 in c:\\python397\\lib\\site-packages (from pandas) (2022.1)\n",
      "Requirement already satisfied: six>=1.5 in c:\\python397\\lib\\site-packages (from python-dateutil>=2.8.1->pandas) (1.16.0)\n"
     ]
    }
   ],
   "source": [
    "!pip install matplotlib\n",
    "!pip install pandas"
   ]
  },
  {
   "cell_type": "code",
   "execution_count": 2,
   "metadata": {
    "pycharm": {
     "name": "#%%\n"
    }
   },
   "outputs": [],
   "source": [
    "import matplotlib.pyplot as plt\n",
    "import pandas as pd\n",
    "import csv\n",
    "from math import sqrt\n",
    "\n",
    "plt.rcParams['figure.figsize'] = [8, 6]\n",
    "plt.rcParams['figure.dpi'] = 100"
   ]
  },
  {
   "cell_type": "markdown",
   "metadata": {
    "pycharm": {
     "name": "#%% md\n"
    }
   },
   "source": [
    "# Parsing dei dati del peso corporeo"
   ]
  },
  {
   "cell_type": "markdown",
   "metadata": {
    "pycharm": {
     "name": "#%% md\n"
    }
   },
   "source": [
    "È stato necessario arrotondare i valori del peso corporeo perché altrimenti si avrebbe avuto il numero di modalità del carattere quasi uguale all'ampiezza del dato."
   ]
  },
  {
   "cell_type": "code",
   "execution_count": 3,
   "metadata": {
    "pycharm": {
     "name": "#%%\n"
    }
   },
   "outputs": [
    {
     "data": {
      "text/plain": "          data   peso\n0   2019-12-29  140.0\n1   2020-01-12  140.0\n2   2020-01-26  139.0\n3   2020-02-02  139.0\n4   2020-02-23  138.0\n..         ...    ...\n115 2022-06-05  103.0\n116 2022-06-12  103.0\n117 2022-06-19  102.0\n118 2022-06-26  106.0\n119 2022-07-03  104.0\n\n[120 rows x 2 columns]",
      "text/html": "<div>\n<style scoped>\n    .dataframe tbody tr th:only-of-type {\n        vertical-align: middle;\n    }\n\n    .dataframe tbody tr th {\n        vertical-align: top;\n    }\n\n    .dataframe thead th {\n        text-align: right;\n    }\n</style>\n<table border=\"1\" class=\"dataframe\">\n  <thead>\n    <tr style=\"text-align: right;\">\n      <th></th>\n      <th>data</th>\n      <th>peso</th>\n    </tr>\n  </thead>\n  <tbody>\n    <tr>\n      <th>0</th>\n      <td>2019-12-29</td>\n      <td>140.0</td>\n    </tr>\n    <tr>\n      <th>1</th>\n      <td>2020-01-12</td>\n      <td>140.0</td>\n    </tr>\n    <tr>\n      <th>2</th>\n      <td>2020-01-26</td>\n      <td>139.0</td>\n    </tr>\n    <tr>\n      <th>3</th>\n      <td>2020-02-02</td>\n      <td>139.0</td>\n    </tr>\n    <tr>\n      <th>4</th>\n      <td>2020-02-23</td>\n      <td>138.0</td>\n    </tr>\n    <tr>\n      <th>...</th>\n      <td>...</td>\n      <td>...</td>\n    </tr>\n    <tr>\n      <th>115</th>\n      <td>2022-06-05</td>\n      <td>103.0</td>\n    </tr>\n    <tr>\n      <th>116</th>\n      <td>2022-06-12</td>\n      <td>103.0</td>\n    </tr>\n    <tr>\n      <th>117</th>\n      <td>2022-06-19</td>\n      <td>102.0</td>\n    </tr>\n    <tr>\n      <th>118</th>\n      <td>2022-06-26</td>\n      <td>106.0</td>\n    </tr>\n    <tr>\n      <th>119</th>\n      <td>2022-07-03</td>\n      <td>104.0</td>\n    </tr>\n  </tbody>\n</table>\n<p>120 rows × 2 columns</p>\n</div>"
     },
     "execution_count": 3,
     "metadata": {},
     "output_type": "execute_result"
    }
   ],
   "source": [
    "with open('peso.csv', 'r') as csvfile:\n",
    "    reader = csv.reader(csvfile, delimiter=',')\n",
    "    peso = []\n",
    "    reader.__next__()\n",
    "    reader.__next__()\n",
    "    for row in reader:\n",
    "        peso.append([row[1], float(row[4])])\n",
    "\n",
    "df_peso = pd.DataFrame(peso, columns=['data', 'peso'])\n",
    "df_peso['data'] = pd.to_datetime(df_peso['data'])\n",
    "df_peso = df_peso.groupby(pd.Grouper(key='data', freq='W')).mean().round(0)\n",
    "df_peso = df_peso.dropna()\n",
    "df_peso = df_peso.reset_index()\n",
    "df_peso"
   ]
  },
  {
   "cell_type": "code",
   "execution_count": 4,
   "metadata": {
    "pycharm": {
     "name": "#%%\n"
    }
   },
   "outputs": [
    {
     "data": {
      "text/plain": "<Figure size 720x576 with 1 Axes>",
      "image/png": "[encoded data removed]"
     },
     "metadata": {
      "needs_background": "light"
     },
     "output_type": "display_data"
    }
   ],
   "source": [
    "fig, ax = plt.subplots(figsize=(10, 8))\n",
    "ax.plot(df_peso['data'], df_peso['peso'])\n",
    "ax.set_title('Peso corporeo nel tempo')\n",
    "ax.set_xlabel('Data')\n",
    "ax.set_ylabel('Peso corporeo')\n",
    "ax.grid()\n",
    "plt.show()"
   ]
  },
  {
   "cell_type": "markdown",
   "metadata": {
    "pycharm": {
     "name": "#%% md\n"
    }
   },
   "source": [
    "Sono state eliminate le settimane in cui non vi erano dati."
   ]
  },
  {
   "cell_type": "code",
   "execution_count": 5,
   "metadata": {
    "pycharm": {
     "name": "#%%\n"
    }
   },
   "outputs": [
    {
     "name": "stdout",
     "output_type": "stream",
     "text": [
      "Ampiezza del dato: 120\n",
      "x_(1)=102 x_(2)=102 x_(3)=103 x_(4)=103 x_(5)=103 x_(6)=103 x_(7)=103 x_(8)=103 x_(9)=103 x_(10)=103 x_(11)=103 x_(12)=103 x_(13)=103 x_(14)=104 x_(15)=104 x_(16)=104 x_(17)=104 x_(18)=104 x_(19)=104 x_(20)=104 x_(21)=104 x_(22)=104 x_(23)=104 x_(24)=105 x_(25)=105 x_(26)=105 x_(27)=105 x_(28)=105 x_(29)=105 x_(30)=105 x_(31)=105 x_(32)=105 x_(33)=105 x_(34)=106 x_(35)=106 x_(36)=106 x_(37)=106 x_(38)=106 x_(39)=106 x_(40)=107 x_(41)=107 x_(42)=108 x_(43)=108 x_(44)=108 x_(45)=109 x_(46)=109 x_(47)=110 x_(48)=111 x_(49)=111 x_(50)=112 x_(51)=112 x_(52)=113 x_(53)=114 x_(54)=115 x_(55)=116 x_(56)=117 x_(57)=117 x_(58)=117 x_(59)=117 x_(60)=117 x_(61)=117 x_(62)=118 x_(63)=118 x_(64)=118 x_(65)=118 x_(66)=118 x_(67)=118 x_(68)=118 x_(69)=118 x_(70)=119 x_(71)=120 x_(72)=121 x_(73)=121 x_(74)=121 x_(75)=121 x_(76)=122 x_(77)=122 x_(78)=122 x_(79)=122 x_(80)=122 x_(81)=123 x_(82)=124 x_(83)=124 x_(84)=125 x_(85)=125 x_(86)=125 x_(87)=126 x_(88)=126 x_(89)=126 x_(90)=126 x_(91)=126 x_(92)=126 x_(93)=127 x_(94)=127 x_(95)=127 x_(96)=128 x_(97)=128 x_(98)=129 x_(99)=129 x_(100)=129 x_(101)=130 x_(102)=130 x_(103)=131 x_(104)=131 x_(105)=132 x_(106)=132 x_(107)=133 x_(108)=133 x_(109)=134 x_(110)=134 x_(111)=135 x_(112)=136 x_(113)=137 x_(114)=137 x_(115)=138 x_(116)=138 x_(117)=139 x_(118)=139 x_(119)=140 x_(120)=140 "
     ]
    }
   ],
   "source": [
    "x = sorted(int(p) for p in df_peso['peso'])\n",
    "n = len(x)\n",
    "print(f'Ampiezza del dato: {n}')\n",
    "for i, x_i in enumerate(x):\n",
    "    print(f'x_({i + 1})={x_i}', end=' ')"
   ]
  },
  {
   "cell_type": "markdown",
   "metadata": {
    "pycharm": {
     "name": "#%% md\n"
    }
   },
   "source": [
    "# Costruzione della tabella delle frequenze"
   ]
  },
  {
   "cell_type": "markdown",
   "metadata": {
    "pycharm": {
     "name": "#%% md\n"
    }
   },
   "source": [
    "## Calcolo delle modalità"
   ]
  },
  {
   "cell_type": "code",
   "execution_count": 6,
   "metadata": {
    "pycharm": {
     "name": "#%%\n"
    }
   },
   "outputs": [
    {
     "name": "stdout",
     "output_type": "stream",
     "text": [
      "Numero di modalità: 39\n",
      "v_1=102 v_2=103 v_3=104 v_4=105 v_5=106 v_6=107 v_7=108 v_8=109 v_9=110 v_10=111 v_11=112 v_12=113 v_13=114 v_14=115 v_15=116 v_16=117 v_17=118 v_18=119 v_19=120 v_20=121 v_21=122 v_22=123 v_23=124 v_24=125 v_25=126 v_26=127 v_27=128 v_28=129 v_29=130 v_30=131 v_31=132 v_32=133 v_33=134 v_34=135 v_35=136 v_36=137 v_37=138 v_38=139 v_39=140 "
     ]
    }
   ],
   "source": [
    "v_x = [x[0]]\n",
    "for i in range(1, len(x)):\n",
    "    if v_x[-1] != x[i]:\n",
    "        v_x.append(x[i])\n",
    "\n",
    "k_x = len(v_x)\n",
    "print(f'Numero di modalità: {k_x}')\n",
    "\n",
    "for i, v_i in enumerate(v_x):\n",
    "    print(f'v_{i + 1}={v_i}', end=' ')"
   ]
  },
  {
   "cell_type": "markdown",
   "metadata": {
    "pycharm": {
     "name": "#%% md\n"
    }
   },
   "source": [
    "## Calcolo della frequenza assoluta delle modalità"
   ]
  },
  {
   "cell_type": "markdown",
   "metadata": {
    "pycharm": {
     "name": "#%% md\n"
    }
   },
   "source": [
    "Dalle frequenze assolute si può notare quando si è avuto più difficoltà nella perdita del peso o quando si era stabilizzato per un periodo di tempo."
   ]
  },
  {
   "cell_type": "code",
   "execution_count": 7,
   "metadata": {
    "pycharm": {
     "name": "#%%\n"
    }
   },
   "outputs": [
    {
     "name": "stdout",
     "output_type": "stream",
     "text": [
      "f_1=2 f_2=11 f_3=10 f_4=10 f_5=6 f_6=2 f_7=3 f_8=2 f_9=1 f_10=2 f_11=2 f_12=1 f_13=1 f_14=1 f_15=1 f_16=6 f_17=8 f_18=1 f_19=1 f_20=4 f_21=5 f_22=1 f_23=2 f_24=3 f_25=6 f_26=3 f_27=2 f_28=3 f_29=2 f_30=2 f_31=2 f_32=2 f_33=2 f_34=1 f_35=1 f_36=2 f_37=2 f_38=2 f_39=2 "
     ]
    }
   ],
   "source": [
    "f_x = [1]\n",
    "for i in range(1, n):\n",
    "    if x[i - 1] == x[i]:\n",
    "        f_x[-1] += 1\n",
    "    else:\n",
    "        f_x.append(1)\n",
    "\n",
    "for i, f_i in enumerate(f_x):\n",
    "    print(f'f_{i + 1}={f_i}', end=' ')"
   ]
  },
  {
   "cell_type": "markdown",
   "metadata": {
    "pycharm": {
     "name": "#%% md\n"
    }
   },
   "source": [
    "## Calcolo della frequenza cumulativa assoluta delle modalità"
   ]
  },
  {
   "cell_type": "code",
   "execution_count": 8,
   "metadata": {
    "pycharm": {
     "name": "#%%\n"
    }
   },
   "outputs": [
    {
     "name": "stdout",
     "output_type": "stream",
     "text": [
      "F_1=2 F_2=13 F_3=23 F_4=33 F_5=39 F_6=41 F_7=44 F_8=46 F_9=47 F_10=49 F_11=51 F_12=52 F_13=53 F_14=54 F_15=55 F_16=61 F_17=69 F_18=70 F_19=71 F_20=75 F_21=80 F_22=81 F_23=83 F_24=86 F_25=92 F_26=95 F_27=97 F_28=100 F_29=102 F_30=104 F_31=106 F_32=108 F_33=110 F_34=111 F_35=112 F_36=114 F_37=116 F_38=118 F_39=120 "
     ]
    }
   ],
   "source": [
    "F_x = [f_x[0]]\n",
    "for i in range(1, k_x):\n",
    "    # Uso della relazione di ricorrenza\n",
    "    F_x.append(F_x[-1] + f_x[i])\n",
    "\n",
    "for i, F_i in enumerate(F_x):\n",
    "    print(f'F_{i + 1}={F_i}', end=' ')"
   ]
  },
  {
   "cell_type": "markdown",
   "metadata": {
    "pycharm": {
     "name": "#%% md\n"
    }
   },
   "source": [
    "## Calcolo della frequenza relativa delle modalità"
   ]
  },
  {
   "cell_type": "code",
   "execution_count": 9,
   "metadata": {
    "pycharm": {
     "name": "#%%\n"
    }
   },
   "outputs": [
    {
     "name": "stdout",
     "output_type": "stream",
     "text": [
      "p_1=0.017 p_2=0.092 p_3=0.083 p_4=0.083 p_5=0.050 p_6=0.017 p_7=0.025 p_8=0.017 p_9=0.008 p_10=0.017 p_11=0.017 p_12=0.008 p_13=0.008 p_14=0.008 p_15=0.008 p_16=0.050 p_17=0.067 p_18=0.008 p_19=0.008 p_20=0.033 p_21=0.042 p_22=0.008 p_23=0.017 p_24=0.025 p_25=0.050 p_26=0.025 p_27=0.017 p_28=0.025 p_29=0.017 p_30=0.017 p_31=0.017 p_32=0.017 p_33=0.017 p_34=0.008 p_35=0.008 p_36=0.017 p_37=0.017 p_38=0.017 p_39=0.017 "
     ]
    }
   ],
   "source": [
    "p_x = []\n",
    "for f_i in f_x:\n",
    "    p_x.append(f_i / n)\n",
    "\n",
    "for i, p_i in enumerate(p_x):\n",
    "    print(f'p_{i + 1}={p_i:.3f}', end=' ')"
   ]
  },
  {
   "cell_type": "markdown",
   "metadata": {
    "pycharm": {
     "name": "#%% md\n"
    }
   },
   "source": [
    "## Calcolo della frequenza cumulativa relativa delle modalità"
   ]
  },
  {
   "cell_type": "code",
   "execution_count": 10,
   "metadata": {
    "pycharm": {
     "name": "#%%\n"
    }
   },
   "outputs": [
    {
     "name": "stdout",
     "output_type": "stream",
     "text": [
      "P_1=0.017 P_2=0.108 P_3=0.192 P_4=0.275 P_5=0.325 P_6=0.342 P_7=0.367 P_8=0.383 P_9=0.392 P_10=0.408 P_11=0.425 P_12=0.433 P_13=0.442 P_14=0.450 P_15=0.458 P_16=0.508 P_17=0.575 P_18=0.583 P_19=0.592 P_20=0.625 P_21=0.667 P_22=0.675 P_23=0.692 P_24=0.717 P_25=0.767 P_26=0.792 P_27=0.808 P_28=0.833 P_29=0.850 P_30=0.867 P_31=0.883 P_32=0.900 P_33=0.917 P_34=0.925 P_35=0.933 P_36=0.950 P_37=0.967 P_38=0.983 P_39=1.000 "
     ]
    }
   ],
   "source": [
    "P_x = []\n",
    "for F_i in F_x:\n",
    "    P_x.append(F_i / n)\n",
    "\n",
    "for i, P_i in enumerate(P_x):\n",
    "    print(f'P_{i + 1}={P_i:.3f}', end=' ')"
   ]
  },
  {
   "cell_type": "markdown",
   "metadata": {
    "pycharm": {
     "name": "#%% md\n"
    }
   },
   "source": [
    "## Tabella delle frequenze"
   ]
  },
  {
   "cell_type": "code",
   "execution_count": 11,
   "metadata": {
    "pycharm": {
     "name": "#%%\n"
    }
   },
   "outputs": [
    {
     "data": {
      "text/plain": "    v_i  f_i       p_i  F_i       P_i\ni                                    \n1   102    2  0.016667    2  0.016667\n2   103   11  0.091667   13  0.108333\n3   104   10  0.083333   23  0.191667\n4   105   10  0.083333   33  0.275000\n5   106    6  0.050000   39  0.325000\n6   107    2  0.016667   41  0.341667\n7   108    3  0.025000   44  0.366667\n8   109    2  0.016667   46  0.383333\n9   110    1  0.008333   47  0.391667\n10  111    2  0.016667   49  0.408333\n11  112    2  0.016667   51  0.425000\n12  113    1  0.008333   52  0.433333\n13  114    1  0.008333   53  0.441667\n14  115    1  0.008333   54  0.450000\n15  116    1  0.008333   55  0.458333\n16  117    6  0.050000   61  0.508333\n17  118    8  0.066667   69  0.575000\n18  119    1  0.008333   70  0.583333\n19  120    1  0.008333   71  0.591667\n20  121    4  0.033333   75  0.625000\n21  122    5  0.041667   80  0.666667\n22  123    1  0.008333   81  0.675000\n23  124    2  0.016667   83  0.691667\n24  125    3  0.025000   86  0.716667\n25  126    6  0.050000   92  0.766667\n26  127    3  0.025000   95  0.791667\n27  128    2  0.016667   97  0.808333\n28  129    3  0.025000  100  0.833333\n29  130    2  0.016667  102  0.850000\n30  131    2  0.016667  104  0.866667\n31  132    2  0.016667  106  0.883333\n32  133    2  0.016667  108  0.900000\n33  134    2  0.016667  110  0.916667\n34  135    1  0.008333  111  0.925000\n35  136    1  0.008333  112  0.933333\n36  137    2  0.016667  114  0.950000\n37  138    2  0.016667  116  0.966667\n38  139    2  0.016667  118  0.983333\n39  140    2  0.016667  120  1.000000",
      "text/html": "<div>\n<style scoped>\n    .dataframe tbody tr th:only-of-type {\n        vertical-align: middle;\n    }\n\n    .dataframe tbody tr th {\n        vertical-align: top;\n    }\n\n    .dataframe thead th {\n        text-align: right;\n    }\n</style>\n<table border=\"1\" class=\"dataframe\">\n  <thead>\n    <tr style=\"text-align: right;\">\n      <th></th>\n      <th>v_i</th>\n      <th>f_i</th>\n      <th>p_i</th>\n      <th>F_i</th>\n      <th>P_i</th>\n    </tr>\n    <tr>\n      <th>i</th>\n      <th></th>\n      <th></th>\n      <th></th>\n      <th></th>\n      <th></th>\n    </tr>\n  </thead>\n  <tbody>\n    <tr>\n      <th>1</th>\n      <td>102</td>\n      <td>2</td>\n      <td>0.016667</td>\n      <td>2</td>\n      <td>0.016667</td>\n    </tr>\n    <tr>\n      <th>2</th>\n      <td>103</td>\n      <td>11</td>\n      <td>0.091667</td>\n      <td>13</td>\n      <td>0.108333</td>\n    </tr>\n    <tr>\n      <th>3</th>\n      <td>104</td>\n      <td>10</td>\n      <td>0.083333</td>\n      <td>23</td>\n      <td>0.191667</td>\n    </tr>\n    <tr>\n      <th>4</th>\n      <td>105</td>\n      <td>10</td>\n      <td>0.083333</td>\n      <td>33</td>\n      <td>0.275000</td>\n    </tr>\n    <tr>\n      <th>5</th>\n      <td>106</td>\n      <td>6</td>\n      <td>0.050000</td>\n      <td>39</td>\n      <td>0.325000</td>\n    </tr>\n    <tr>\n      <th>6</th>\n      <td>107</td>\n      <td>2</td>\n      <td>0.016667</td>\n      <td>41</td>\n      <td>0.341667</td>\n    </tr>\n    <tr>\n      <th>7</th>\n      <td>108</td>\n      <td>3</td>\n      <td>0.025000</td>\n      <td>44</td>\n      <td>0.366667</td>\n    </tr>\n    <tr>\n      <th>8</th>\n      <td>109</td>\n      <td>2</td>\n      <td>0.016667</td>\n      <td>46</td>\n      <td>0.383333</td>\n    </tr>\n    <tr>\n      <th>9</th>\n      <td>110</td>\n      <td>1</td>\n      <td>0.008333</td>\n      <td>47</td>\n      <td>0.391667</td>\n    </tr>\n    <tr>\n      <th>10</th>\n      <td>111</td>\n      <td>2</td>\n      <td>0.016667</td>\n      <td>49</td>\n      <td>0.408333</td>\n    </tr>\n    <tr>\n      <th>11</th>\n      <td>112</td>\n      <td>2</td>\n      <td>0.016667</td>\n      <td>51</td>\n      <td>0.425000</td>\n    </tr>\n    <tr>\n      <th>12</th>\n      <td>113</td>\n      <td>1</td>\n      <td>0.008333</td>\n      <td>52</td>\n      <td>0.433333</td>\n    </tr>\n    <tr>\n      <th>13</th>\n      <td>114</td>\n      <td>1</td>\n      <td>0.008333</td>\n      <td>53</td>\n      <td>0.441667</td>\n    </tr>\n    <tr>\n      <th>14</th>\n      <td>115</td>\n      <td>1</td>\n      <td>0.008333</td>\n      <td>54</td>\n      <td>0.450000</td>\n    </tr>\n    <tr>\n      <th>15</th>\n      <td>116</td>\n      <td>1</td>\n      <td>0.008333</td>\n      <td>55</td>\n      <td>0.458333</td>\n    </tr>\n    <tr>\n      <th>16</th>\n      <td>117</td>\n      <td>6</td>\n      <td>0.050000</td>\n      <td>61</td>\n      <td>0.508333</td>\n    </tr>\n    <tr>\n      <th>17</th>\n      <td>118</td>\n      <td>8</td>\n      <td>0.066667</td>\n      <td>69</td>\n      <td>0.575000</td>\n    </tr>\n    <tr>\n      <th>18</th>\n      <td>119</td>\n      <td>1</td>\n      <td>0.008333</td>\n      <td>70</td>\n      <td>0.583333</td>\n    </tr>\n    <tr>\n      <th>19</th>\n      <td>120</td>\n      <td>1</td>\n      <td>0.008333</td>\n      <td>71</td>\n      <td>0.591667</td>\n    </tr>\n    <tr>\n      <th>20</th>\n      <td>121</td>\n      <td>4</td>\n      <td>0.033333</td>\n      <td>75</td>\n      <td>0.625000</td>\n    </tr>\n    <tr>\n      <th>21</th>\n      <td>122</td>\n      <td>5</td>\n      <td>0.041667</td>\n      <td>80</td>\n      <td>0.666667</td>\n    </tr>\n    <tr>\n      <th>22</th>\n      <td>123</td>\n      <td>1</td>\n      <td>0.008333</td>\n      <td>81</td>\n      <td>0.675000</td>\n    </tr>\n    <tr>\n      <th>23</th>\n      <td>124</td>\n      <td>2</td>\n      <td>0.016667</td>\n      <td>83</td>\n      <td>0.691667</td>\n    </tr>\n    <tr>\n      <th>24</th>\n      <td>125</td>\n      <td>3</td>\n      <td>0.025000</td>\n      <td>86</td>\n      <td>0.716667</td>\n    </tr>\n    <tr>\n      <th>25</th>\n      <td>126</td>\n      <td>6</td>\n      <td>0.050000</td>\n      <td>92</td>\n      <td>0.766667</td>\n    </tr>\n    <tr>\n      <th>26</th>\n      <td>127</td>\n      <td>3</td>\n      <td>0.025000</td>\n      <td>95</td>\n      <td>0.791667</td>\n    </tr>\n    <tr>\n      <th>27</th>\n      <td>128</td>\n      <td>2</td>\n      <td>0.016667</td>\n      <td>97</td>\n      <td>0.808333</td>\n    </tr>\n    <tr>\n      <th>28</th>\n      <td>129</td>\n      <td>3</td>\n      <td>0.025000</td>\n      <td>100</td>\n      <td>0.833333</td>\n    </tr>\n    <tr>\n      <th>29</th>\n      <td>130</td>\n      <td>2</td>\n      <td>0.016667</td>\n      <td>102</td>\n      <td>0.850000</td>\n    </tr>\n    <tr>\n      <th>30</th>\n      <td>131</td>\n      <td>2</td>\n      <td>0.016667</td>\n      <td>104</td>\n      <td>0.866667</td>\n    </tr>\n    <tr>\n      <th>31</th>\n      <td>132</td>\n      <td>2</td>\n      <td>0.016667</td>\n      <td>106</td>\n      <td>0.883333</td>\n    </tr>\n    <tr>\n      <th>32</th>\n      <td>133</td>\n      <td>2</td>\n      <td>0.016667</td>\n      <td>108</td>\n      <td>0.900000</td>\n    </tr>\n    <tr>\n      <th>33</th>\n      <td>134</td>\n      <td>2</td>\n      <td>0.016667</td>\n      <td>110</td>\n      <td>0.916667</td>\n    </tr>\n    <tr>\n      <th>34</th>\n      <td>135</td>\n      <td>1</td>\n      <td>0.008333</td>\n      <td>111</td>\n      <td>0.925000</td>\n    </tr>\n    <tr>\n      <th>35</th>\n      <td>136</td>\n      <td>1</td>\n      <td>0.008333</td>\n      <td>112</td>\n      <td>0.933333</td>\n    </tr>\n    <tr>\n      <th>36</th>\n      <td>137</td>\n      <td>2</td>\n      <td>0.016667</td>\n      <td>114</td>\n      <td>0.950000</td>\n    </tr>\n    <tr>\n      <th>37</th>\n      <td>138</td>\n      <td>2</td>\n      <td>0.016667</td>\n      <td>116</td>\n      <td>0.966667</td>\n    </tr>\n    <tr>\n      <th>38</th>\n      <td>139</td>\n      <td>2</td>\n      <td>0.016667</td>\n      <td>118</td>\n      <td>0.983333</td>\n    </tr>\n    <tr>\n      <th>39</th>\n      <td>140</td>\n      <td>2</td>\n      <td>0.016667</td>\n      <td>120</td>\n      <td>1.000000</td>\n    </tr>\n  </tbody>\n</table>\n</div>"
     },
     "execution_count": 11,
     "metadata": {},
     "output_type": "execute_result"
    }
   ],
   "source": [
    "data_table = []\n",
    "for i in range(k_x):\n",
    "    data_table.append([i + 1, v_x[i], f_x[i], p_x[i], F_x[i], P_x[i]])\n",
    "\n",
    "df_data_table = pd.DataFrame(data_table, columns=['i', 'v_i', 'f_i', 'p_i', 'F_i', 'P_i'])\n",
    "df_data_table.set_index('i', inplace=True)\n",
    "df_data_table"
   ]
  },
  {
   "cell_type": "markdown",
   "metadata": {
    "pycharm": {
     "name": "#%% md\n"
    }
   },
   "source": [
    "# Grafici distribuzione delle frequenze assolute"
   ]
  },
  {
   "cell_type": "markdown",
   "metadata": {
    "pycharm": {
     "name": "#%% md\n"
    }
   },
   "source": [
    "## Grafico a linee"
   ]
  },
  {
   "cell_type": "code",
   "execution_count": 12,
   "metadata": {
    "pycharm": {
     "name": "#%%\n"
    }
   },
   "outputs": [
    {
     "data": {
      "text/plain": "<Figure size 432x288 with 1 Axes>",
      "image/png": "[encoded data removed]"
     },
     "metadata": {
      "needs_background": "light"
     },
     "output_type": "display_data"
    }
   ],
   "source": [
    "fig, ax = plt.subplots()\n",
    "ax.plot(v_x, f_x, '-o')\n",
    "ax.set_title('Distribuzione delle frequenze assolute')\n",
    "ax.set_xlabel(r'$v_i$')\n",
    "ax.set_ylabel(r'$f_i$')\n",
    "ax.grid()\n",
    "\n",
    "for i, v_i in enumerate(v_x):\n",
    "    ax.text(v_i, f_x[i], f'{f_x[i]:.0f}', ha='left', va='bottom')\n",
    "\n",
    "plt.show()"
   ]
  },
  {
   "cell_type": "markdown",
   "metadata": {
    "pycharm": {
     "name": "#%% md\n"
    }
   },
   "source": [
    "## Istogramma"
   ]
  },
  {
   "cell_type": "code",
   "execution_count": 13,
   "metadata": {
    "pycharm": {
     "name": "#%%\n"
    }
   },
   "outputs": [],
   "source": [
    "def plot_histogram_classe(ampiezza_classe):\n",
    "    min_value = x[0]\n",
    "    max_value = x[n - 1]\n",
    "\n",
    "    fig, ax = plt.subplots()\n",
    "    values, bins, bars = ax.hist(x, bins=list(range(min_value, max_value + ampiezza_classe, ampiezza_classe)), edgecolor='black', linewidth=1.5)\n",
    "\n",
    "    ax.set_xticks(bins)\n",
    "    ax.bar_label(bars)\n",
    "    ax.set_title(f'Distribuzione delle frequenze assolute con classe di ampiezza {ampiezza_classe}')\n",
    "    ax.set_xlabel(r'$v_i$')\n",
    "    ax.set_ylabel(r'$f_i$')\n",
    "\n",
    "    plt.show()"
   ]
  },
  {
   "cell_type": "code",
   "execution_count": 14,
   "metadata": {
    "pycharm": {
     "name": "#%%\n"
    }
   },
   "outputs": [
    {
     "data": {
      "text/plain": "<Figure size 432x288 with 1 Axes>",
      "image/png": "[encoded data removed]"
     },
     "metadata": {
      "needs_background": "light"
     },
     "output_type": "display_data"
    }
   ],
   "source": [
    "plot_histogram_classe(3)"
   ]
  },
  {
   "cell_type": "code",
   "execution_count": 15,
   "metadata": {
    "pycharm": {
     "name": "#%%\n"
    }
   },
   "outputs": [
    {
     "data": {
      "text/plain": "<Figure size 432x288 with 1 Axes>",
      "image/png": "[encoded data removed]"
     },
     "metadata": {
      "needs_background": "light"
     },
     "output_type": "display_data"
    }
   ],
   "source": [
    "plot_histogram_classe(5)"
   ]
  },
  {
   "cell_type": "markdown",
   "metadata": {
    "pycharm": {
     "name": "#%% md\n"
    }
   },
   "source": [
    "# Indici di posizione"
   ]
  },
  {
   "cell_type": "markdown",
   "metadata": {
    "pycharm": {
     "name": "#%% md\n"
    }
   },
   "source": [
    "## Calcolo della media campionaria"
   ]
  },
  {
   "cell_type": "markdown",
   "metadata": {
    "pycharm": {
     "name": "#%% md\n"
    }
   },
   "source": [
    "L'indice della media campionare su tutto il campione è poco significativo in questo campione perché, come si nota dal grafico dal peso corporeo nel tempo, il peso sempre sceso e quindi i valori sono cambiati spesso. La media campionaria invece indicherebbe che si è avuto una media di peso corporeo per ogni settimana di 117 kg, cosa non vera."
   ]
  },
  {
   "cell_type": "code",
   "execution_count": 16,
   "metadata": {
    "pycharm": {
     "name": "#%%\n"
    }
   },
   "outputs": [
    {
     "name": "stdout",
     "output_type": "stream",
     "text": [
      "Media campionaria: 116.975\n"
     ]
    }
   ],
   "source": [
    "x_mean = 0\n",
    "for x_i in x:\n",
    "    x_mean += x_i\n",
    "x_mean = x_mean / n\n",
    "\n",
    "print(f'Media campionaria: {x_mean}')"
   ]
  },
  {
   "cell_type": "markdown",
   "metadata": {
    "pycharm": {
     "name": "#%% md\n"
    }
   },
   "source": [
    "## Calcolo della media pesata"
   ]
  },
  {
   "cell_type": "code",
   "execution_count": 17,
   "metadata": {
    "pycharm": {
     "name": "#%%\n"
    }
   },
   "outputs": [
    {
     "name": "stdout",
     "output_type": "stream",
     "text": [
      "Media pesata: 116.97500000000002\n"
     ]
    }
   ],
   "source": [
    "x_mean_pesata = 0\n",
    "for i in range(k_x):\n",
    "    x_mean_pesata += (f_x[i] / n) * v_x[i]\n",
    "\n",
    "print(f'Media pesata: {x_mean_pesata}')"
   ]
  },
  {
   "cell_type": "markdown",
   "metadata": {
    "pycharm": {
     "name": "#%% md\n"
    }
   },
   "source": [
    "## Calcolo della mediana campionaria"
   ]
  },
  {
   "cell_type": "markdown",
   "metadata": {
    "pycharm": {
     "name": "#%% md\n"
    }
   },
   "source": [
    "Anche la mediana campionaria per la tipologia del dato, è poco signficativa."
   ]
  },
  {
   "cell_type": "code",
   "execution_count": 18,
   "metadata": {
    "pycharm": {
     "name": "#%%\n"
    }
   },
   "outputs": [
    {
     "name": "stdout",
     "output_type": "stream",
     "text": [
      "Mediana campionaria: 117.0\n"
     ]
    }
   ],
   "source": [
    "if n % 2 == 0:\n",
    "    x_mediana = (x[n // 2] + x[n // 2 - 1]) / 2\n",
    "else:\n",
    "    x_mediana = x[n // 2]\n",
    "\n",
    "print(f'Mediana campionaria: {x_mediana}')"
   ]
  },
  {
   "cell_type": "markdown",
   "metadata": {
    "pycharm": {
     "name": "#%% md\n"
    }
   },
   "source": [
    "## Calcolo della moda campionaria"
   ]
  },
  {
   "cell_type": "markdown",
   "metadata": {
    "pycharm": {
     "name": "#%% md\n"
    }
   },
   "source": [
    "La moda campionaria è molto utile, in quanto come detto precedentemente, si riesce a determinare in quali fasi del peso corporeo si è avuto più difficoltà. Calcolando più mode campionarie, escludendo ogni volta quella precedente, si riesce a capire quali sono le fasi del peso corporeo in cui si è avuto più difficoltà."
   ]
  },
  {
   "cell_type": "code",
   "execution_count": 19,
   "metadata": {
    "pycharm": {
     "name": "#%%\n"
    }
   },
   "outputs": [
    {
     "name": "stdout",
     "output_type": "stream",
     "text": [
      "Moda campionaria unimodale: v_2 = 103, f_2 = 11\n"
     ]
    }
   ],
   "source": [
    "max_f_x = 0\n",
    "index = 0\n",
    "count = 0\n",
    "\n",
    "for i, f_i in enumerate(f_x):\n",
    "    if f_i > max_f_x:\n",
    "        max_f_x = f_i\n",
    "        count = 1\n",
    "        index = i\n",
    "    elif f_i == max_f_x:\n",
    "        count += 1\n",
    "\n",
    "x_moda = v_x[index]\n",
    "if count == 1:\n",
    "    print(f'Moda campionaria unimodale: v_{index + 1} = {x_moda}, f_{index + 1} = {max_f_x}')\n",
    "elif count == 2:\n",
    "    print(f'Moda campionaria bimodale: v_{index + 1} = {x_moda}, f_{index + 1} = {max_f_x}')\n",
    "else:\n",
    "    print(f'Moda campionaria multimodale: v_{index + 1} = {x_moda}, f_{index + 1} = {max_f_x}')"
   ]
  },
  {
   "cell_type": "markdown",
   "metadata": {
    "pycharm": {
     "name": "#%% md\n"
    }
   },
   "source": [
    "# Indici di variabilità"
   ]
  },
  {
   "cell_type": "markdown",
   "metadata": {
    "pycharm": {
     "name": "#%% md\n"
    }
   },
   "source": [
    "## Calcolo della varianza campionaria\n",
    "\n",
    "La varianza dei dati rispetto alla media campionaria è un po' alta."
   ]
  },
  {
   "cell_type": "code",
   "execution_count": 20,
   "metadata": {
    "pycharm": {
     "name": "#%%\n"
    }
   },
   "outputs": [
    {
     "name": "stdout",
     "output_type": "stream",
     "text": [
      "Varianza campionaria: 133.5539915966387\n"
     ]
    }
   ],
   "source": [
    "s2_x = 0\n",
    "for x_i in x:\n",
    "    s2_x += (x_i - x_mean) ** 2\n",
    "\n",
    "s2_x = s2_x / (n - 1)\n",
    "print(f'Varianza campionaria: {s2_x}')"
   ]
  },
  {
   "cell_type": "markdown",
   "metadata": {
    "pycharm": {
     "name": "#%% md\n"
    }
   },
   "source": [
    "## Calcolo della deviazione standard campionaria"
   ]
  },
  {
   "cell_type": "code",
   "execution_count": 21,
   "metadata": {
    "pycharm": {
     "name": "#%%\n"
    }
   },
   "outputs": [
    {
     "name": "stdout",
     "output_type": "stream",
     "text": [
      "Deviazione standard campionaria: 11.556556216998155\n"
     ]
    }
   ],
   "source": [
    "s_x = sqrt(s2_x)\n",
    "print(f'Deviazione standard campionaria: {s_x}')"
   ]
  },
  {
   "cell_type": "markdown",
   "metadata": {
    "pycharm": {
     "name": "#%% md\n"
    }
   },
   "source": [
    "## Calcolo dello scarto medio assoluto"
   ]
  },
  {
   "cell_type": "code",
   "execution_count": 22,
   "metadata": {
    "pycharm": {
     "name": "#%%\n"
    }
   },
   "outputs": [
    {
     "name": "stdout",
     "output_type": "stream",
     "text": [
      "Scarto medio assoluto: 10.010416666666668\n"
     ]
    }
   ],
   "source": [
    "sa_x = 0\n",
    "for x_i in x:\n",
    "    sa_x += abs(x_i - x_mean)\n",
    "\n",
    "sa_x = sa_x / n\n",
    "print(f'Scarto medio assoluto: {sa_x}')"
   ]
  },
  {
   "cell_type": "markdown",
   "metadata": {
    "pycharm": {
     "name": "#%% md\n"
    }
   },
   "source": [
    "## Calcolo dell'ampiezza del campo di variazione"
   ]
  },
  {
   "cell_type": "markdown",
   "metadata": {
    "pycharm": {
     "name": "#%% md\n"
    }
   },
   "source": [
    "Questo dato indica anche il massimo di chili persi in tutto il periodo."
   ]
  },
  {
   "cell_type": "code",
   "execution_count": 23,
   "metadata": {
    "pycharm": {
     "name": "#%%\n"
    }
   },
   "outputs": [
    {
     "name": "stdout",
     "output_type": "stream",
     "text": [
      "Ampiezza del campo di variazione: 38\n"
     ]
    }
   ],
   "source": [
    "w_x = x[n - 1] - x[0]\n",
    "print(f'Ampiezza del campo di variazione: {w_x}')"
   ]
  },
  {
   "cell_type": "markdown",
   "metadata": {
    "pycharm": {
     "name": "#%% md\n"
    }
   },
   "source": [
    "## Calcolo del coefficiente di variazione"
   ]
  },
  {
   "cell_type": "code",
   "execution_count": 24,
   "metadata": {
    "pycharm": {
     "name": "#%%\n"
    }
   },
   "outputs": [
    {
     "name": "stdout",
     "output_type": "stream",
     "text": [
      "Coefficiente di variazione: 0.09879509482366451\n"
     ]
    }
   ],
   "source": [
    "cv_x = s_x / x_mean\n",
    "print(f'Coefficiente di variazione: {cv_x}')"
   ]
  },
  {
   "cell_type": "markdown",
   "metadata": {
    "pycharm": {
     "name": "#%% md\n"
    }
   },
   "source": [
    "# Indici di forma"
   ]
  },
  {
   "cell_type": "markdown",
   "metadata": {
    "pycharm": {
     "name": "#%% md\n"
    }
   },
   "source": [
    "## Calcolo dell'indice di simmetria\n",
    "\n",
    "Dall'istogramma si nota una coda a destra, infatti l'indice è positivo."
   ]
  },
  {
   "cell_type": "code",
   "execution_count": 25,
   "metadata": {
    "pycharm": {
     "name": "#%%\n"
    }
   },
   "outputs": [
    {
     "name": "stdout",
     "output_type": "stream",
     "text": [
      "Indice di simmetria: 0.30646667980571396, asimmetria positiva\n"
     ]
    }
   ],
   "source": [
    "g_x = 0\n",
    "for x_i in x:\n",
    "    g_x += (x_i - x_mean) ** 3\n",
    "\n",
    "g_x = g_x / n\n",
    "g_x = g_x / (s_x ** 3)\n",
    "\n",
    "if g_x < 0:\n",
    "    print(f'Indice di simmetria: {g_x}, asimmetria negativa')\n",
    "else:\n",
    "    print(f'Indice di simmetria: {g_x}, asimmetria positiva')"
   ]
  },
  {
   "cell_type": "code",
   "execution_count": 26,
   "metadata": {
    "pycharm": {
     "name": "#%%\n"
    }
   },
   "outputs": [
    {
     "data": {
      "text/plain": "<Figure size 432x288 with 1 Axes>",
      "image/png": "[encoded data removed]"
     },
     "metadata": {
      "needs_background": "light"
     },
     "output_type": "display_data"
    }
   ],
   "source": [
    "plot_histogram_classe(1)"
   ]
  },
  {
   "cell_type": "markdown",
   "metadata": {
    "pycharm": {
     "name": "#%% md\n"
    }
   },
   "source": [
    "## Calcolo dell'indice di curtosi"
   ]
  },
  {
   "cell_type": "code",
   "execution_count": 27,
   "metadata": {
    "pycharm": {
     "name": "#%%\n"
    }
   },
   "outputs": [
    {
     "name": "stdout",
     "output_type": "stream",
     "text": [
      "Indice di curtosi: -1.1994033519694862, è presente una carenza di dati nelle classi centrali\n"
     ]
    }
   ],
   "source": [
    "curtosi_x = 0\n",
    "for x_i in x:\n",
    "    curtosi_x += (x_i - x_mean) ** 4\n",
    "\n",
    "curtosi_x = curtosi_x / n\n",
    "curtosi_x = curtosi_x / (s_x ** 4)\n",
    "curtosi_x = curtosi_x - 3\n",
    "\n",
    "if curtosi_x > 0:\n",
    "    print(f'Indice di curtosi: {curtosi_x}, è presente un eccesso di dati nelle classi centrali')\n",
    "elif curtosi_x < 0:\n",
    "    print(f'Indice di curtosi: {curtosi_x}, è presente una carenza di dati nelle classi centrali')\n",
    "else:\n",
    "    print(f'Indice di curtosi: {curtosi_x}, è presente una distribuzione di dati come quella di una distribuzione normale')"
   ]
  },
  {
   "cell_type": "markdown",
   "metadata": {
    "pycharm": {
     "name": "#%% md\n"
    }
   },
   "source": [
    "# Quartili"
   ]
  },
  {
   "cell_type": "markdown",
   "metadata": {
    "pycharm": {
     "name": "#%% md\n"
    }
   },
   "source": [
    "## Calcolo dei quartili"
   ]
  },
  {
   "cell_type": "code",
   "execution_count": 28,
   "metadata": {
    "pycharm": {
     "name": "#%%\n"
    }
   },
   "outputs": [],
   "source": [
    "def get_quartile(k):\n",
    "    np = n * (k / 100)\n",
    "    if np % 1 == 0:\n",
    "        return (x[int(np)] + x[int(np) - 1]) / 2\n",
    "    else:\n",
    "        return x[int(np)]"
   ]
  },
  {
   "cell_type": "code",
   "execution_count": 29,
   "metadata": {
    "pycharm": {
     "name": "#%%\n"
    }
   },
   "outputs": [
    {
     "name": "stdout",
     "output_type": "stream",
     "text": [
      "Principali quartili: Q1 = 105.0, Q2 = 117.0, Q3 = 126.0\n"
     ]
    }
   ],
   "source": [
    "Q1_x = get_quartile(25)\n",
    "Q2_x = get_quartile(50)\n",
    "Q3_x = get_quartile(75)\n",
    "\n",
    "print(f'Principali quartili: Q1 = {Q1_x}, Q2 = {Q2_x}, Q3 = {Q3_x}')"
   ]
  },
  {
   "cell_type": "markdown",
   "metadata": {
    "pycharm": {
     "name": "#%% md\n"
    }
   },
   "source": [
    "## Calcolo dello scarto interquartile"
   ]
  },
  {
   "cell_type": "markdown",
   "metadata": {
    "pycharm": {
     "name": "#%% md\n"
    }
   },
   "source": [
    "Indica la lunghezza del rettangolo nel box plot"
   ]
  },
  {
   "cell_type": "code",
   "execution_count": 30,
   "metadata": {
    "pycharm": {
     "name": "#%%\n"
    }
   },
   "outputs": [
    {
     "name": "stdout",
     "output_type": "stream",
     "text": [
      "Scarto interquartile: 21.0\n"
     ]
    }
   ],
   "source": [
    "si_x = Q3_x - Q1_x\n",
    "print(f'Scarto interquartile: {si_x}')"
   ]
  },
  {
   "cell_type": "markdown",
   "metadata": {
    "pycharm": {
     "name": "#%% md\n"
    }
   },
   "source": [
    "## Box plot\n",
    "\n",
    "Come si evince dal grafico, non vi sono outliers. Se essi fosse presenti, sarebbero indicati nel grafico come dei punti rossi. Il segmento arancione rappresenta la media campionaria."
   ]
  },
  {
   "cell_type": "code",
   "execution_count": 31,
   "metadata": {
    "pycharm": {
     "name": "#%%\n"
    }
   },
   "outputs": [
    {
     "data": {
      "text/plain": "<Figure size 720x576 with 1 Axes>",
      "image/png": "[encoded data removed]"
     },
     "metadata": {
      "needs_background": "light"
     },
     "output_type": "display_data"
    }
   ],
   "source": [
    "fig, ax = plt.subplots(figsize=(10, 8))\n",
    "ax.boxplot(x, flierprops=dict(marker='s', markerfacecolor='red'))\n",
    "ax.set_title('Box plot')\n",
    "ax.yaxis.set_ticks_position('none')\n",
    "ax.grid(axis='y', linestyle='-', linewidth=0.5, color='lightgrey')\n",
    "ax.spines['top'].set_visible(False)\n",
    "ax.spines['right'].set_visible(False)\n",
    "ax.spines['left'].set_visible(False)\n",
    "ax.get_xaxis().set_visible(False)\n",
    "plt.show()"
   ]
  },
  {
   "cell_type": "markdown",
   "metadata": {
    "pycharm": {
     "name": "#%% md\n"
    }
   },
   "source": [
    "# Intervalli di previsione"
   ]
  },
  {
   "cell_type": "markdown",
   "metadata": {
    "pycharm": {
     "name": "#%% md\n"
    }
   },
   "source": [
    "Gli intervalli di previsione non sono quelli tipici di una distribuzione normale, ma questo lo si poteva già evincere dall'istogramma delle classi di ampiezza 1."
   ]
  },
  {
   "cell_type": "code",
   "execution_count": 32,
   "metadata": {
    "pycharm": {
     "name": "#%%\n"
    }
   },
   "outputs": [
    {
     "name": "stdout",
     "output_type": "stream",
     "text": [
      "Intervalli di previsione:\n",
      "(105.41844378300183, 128.53155621699815) 53.33%\n",
      "(93.86188756600369, 140.08811243399632) 100.00%\n",
      "(82.30533134900553, 151.64466865099445) 100.00%\n"
     ]
    }
   ],
   "source": [
    "intervallo1_x = (x_mean - s_x, x_mean + s_x)\n",
    "intervallo2_x = (x_mean - 2 * s_x, x_mean + 2 * s_x)\n",
    "intervallo3_x = (x_mean - 3 * s_x, x_mean + 3 * s_x)\n",
    "\n",
    "count1 = 0\n",
    "count2 = 0\n",
    "count3 = 0\n",
    "for x_i in x:\n",
    "    if intervallo1_x[0] < x_i < intervallo1_x[1]:\n",
    "        count1 += 1\n",
    "    if intervallo2_x[0] < x_i < intervallo2_x[1]:\n",
    "        count2 += 1\n",
    "    if intervallo3_x[0] < x_i < intervallo3_x[1]:\n",
    "        count3 += 1\n",
    "\n",
    "print(f'Intervalli di previsione:\\n{intervallo1_x} {(count1 / n) * 100:.2f}%\\n{intervallo2_x} {(count2 / n) * 100:.2f}%\\n{intervallo3_x} {(count3 / n) * 100:.2f}%')"
   ]
  },
  {
   "cell_type": "markdown",
   "metadata": {
    "pycharm": {
     "name": "#%% md\n"
    }
   },
   "source": [
    "# Parsing dei dati delle calorie assunte"
   ]
  },
  {
   "cell_type": "code",
   "execution_count": 33,
   "metadata": {
    "pycharm": {
     "name": "#%%\n"
    }
   },
   "outputs": [
    {
     "name": "stdout",
     "output_type": "stream",
     "text": [
      "Numero di ampiezza dei dati prima della eliminazione delle settimane in cui non vi sono state pesate corporee: 142\n"
     ]
    },
    {
     "data": {
      "text/plain": "          data  calorie\n0   2019-10-20   2374.0\n1   2019-10-27   1768.0\n2   2019-11-03   1291.0\n3   2019-11-10   1875.0\n4   2019-11-17   1702.0\n..         ...      ...\n137 2022-06-05   1808.0\n138 2022-06-12   1718.0\n139 2022-06-19   1784.0\n140 2022-06-26   1960.0\n141 2022-07-03   2011.0\n\n[142 rows x 2 columns]",
      "text/html": "<div>\n<style scoped>\n    .dataframe tbody tr th:only-of-type {\n        vertical-align: middle;\n    }\n\n    .dataframe tbody tr th {\n        vertical-align: top;\n    }\n\n    .dataframe thead th {\n        text-align: right;\n    }\n</style>\n<table border=\"1\" class=\"dataframe\">\n  <thead>\n    <tr style=\"text-align: right;\">\n      <th></th>\n      <th>data</th>\n      <th>calorie</th>\n    </tr>\n  </thead>\n  <tbody>\n    <tr>\n      <th>0</th>\n      <td>2019-10-20</td>\n      <td>2374.0</td>\n    </tr>\n    <tr>\n      <th>1</th>\n      <td>2019-10-27</td>\n      <td>1768.0</td>\n    </tr>\n    <tr>\n      <th>2</th>\n      <td>2019-11-03</td>\n      <td>1291.0</td>\n    </tr>\n    <tr>\n      <th>3</th>\n      <td>2019-11-10</td>\n      <td>1875.0</td>\n    </tr>\n    <tr>\n      <th>4</th>\n      <td>2019-11-17</td>\n      <td>1702.0</td>\n    </tr>\n    <tr>\n      <th>...</th>\n      <td>...</td>\n      <td>...</td>\n    </tr>\n    <tr>\n      <th>137</th>\n      <td>2022-06-05</td>\n      <td>1808.0</td>\n    </tr>\n    <tr>\n      <th>138</th>\n      <td>2022-06-12</td>\n      <td>1718.0</td>\n    </tr>\n    <tr>\n      <th>139</th>\n      <td>2022-06-19</td>\n      <td>1784.0</td>\n    </tr>\n    <tr>\n      <th>140</th>\n      <td>2022-06-26</td>\n      <td>1960.0</td>\n    </tr>\n    <tr>\n      <th>141</th>\n      <td>2022-07-03</td>\n      <td>2011.0</td>\n    </tr>\n  </tbody>\n</table>\n<p>142 rows × 2 columns</p>\n</div>"
     },
     "execution_count": 33,
     "metadata": {},
     "output_type": "execute_result"
    }
   ],
   "source": [
    "with open('calorie.csv', 'r') as csvfile:\n",
    "    reader = csv.reader(csvfile, delimiter=',')\n",
    "    calorie = []\n",
    "    reader.__next__()\n",
    "    reader.__next__()\n",
    "    for row in reader:\n",
    "        calorie.append([row[0], float(row[8])])\n",
    "\n",
    "df_calorie = pd.DataFrame(calorie, columns=['data', 'calorie'])\n",
    "df_calorie['data'] = pd.to_datetime(df_calorie['data'])\n",
    "df_calorie = df_calorie.groupby(pd.Grouper(key='data', freq='D')).sum().round(0)\n",
    "df_calorie = df_calorie.reset_index()\n",
    "df_calorie = df_calorie.groupby(pd.Grouper(key='data', freq='W')).mean().round(0)\n",
    "df_calorie = df_calorie.reset_index()\n",
    "print(f'Numero di ampiezza dei dati prima della eliminazione delle settimane in cui non vi sono state pesate corporee: {len(df_calorie)}')\n",
    "df_calorie"
   ]
  },
  {
   "cell_type": "code",
   "execution_count": 34,
   "metadata": {
    "pycharm": {
     "name": "#%%\n"
    }
   },
   "outputs": [
    {
     "data": {
      "text/plain": "<Figure size 720x576 with 1 Axes>",
      "image/png": "[encoded data removed]"
     },
     "metadata": {
      "needs_background": "light"
     },
     "output_type": "display_data"
    }
   ],
   "source": [
    "fig, ax = plt.subplots(figsize=(10, 8))\n",
    "ax.plot(df_calorie['data'], df_calorie['calorie'])\n",
    "ax.set_title('Calorie assunte nel tempo')\n",
    "ax.set_xlabel('Data')\n",
    "ax.set_ylabel('Calorie assunte')\n",
    "ax.grid()\n",
    "plt.show()"
   ]
  },
  {
   "cell_type": "code",
   "execution_count": 35,
   "metadata": {
    "pycharm": {
     "name": "#%%\n"
    }
   },
   "outputs": [
    {
     "name": "stdout",
     "output_type": "stream",
     "text": [
      "Numero di ampiezza dei dati dopo l'eliminazione delle settimane in cui non vi sono state pesate corporee: 120\n"
     ]
    },
    {
     "data": {
      "text/plain": "     index       data   peso  calorie\n0        0 2019-12-29  140.0   1704.0\n1        1 2020-01-12  140.0   1816.0\n2        2 2020-01-26  139.0   1813.0\n3        3 2020-02-02  139.0   1922.0\n4        4 2020-02-23  138.0   1939.0\n..     ...        ...    ...      ...\n115    115 2022-06-05  103.0   1808.0\n116    116 2022-06-12  103.0   1718.0\n117    117 2022-06-19  102.0   1784.0\n118    118 2022-06-26  106.0   1960.0\n119    119 2022-07-03  104.0   2011.0\n\n[120 rows x 4 columns]",
      "text/html": "<div>\n<style scoped>\n    .dataframe tbody tr th:only-of-type {\n        vertical-align: middle;\n    }\n\n    .dataframe tbody tr th {\n        vertical-align: top;\n    }\n\n    .dataframe thead th {\n        text-align: right;\n    }\n</style>\n<table border=\"1\" class=\"dataframe\">\n  <thead>\n    <tr style=\"text-align: right;\">\n      <th></th>\n      <th>index</th>\n      <th>data</th>\n      <th>peso</th>\n      <th>calorie</th>\n    </tr>\n  </thead>\n  <tbody>\n    <tr>\n      <th>0</th>\n      <td>0</td>\n      <td>2019-12-29</td>\n      <td>140.0</td>\n      <td>1704.0</td>\n    </tr>\n    <tr>\n      <th>1</th>\n      <td>1</td>\n      <td>2020-01-12</td>\n      <td>140.0</td>\n      <td>1816.0</td>\n    </tr>\n    <tr>\n      <th>2</th>\n      <td>2</td>\n      <td>2020-01-26</td>\n      <td>139.0</td>\n      <td>1813.0</td>\n    </tr>\n    <tr>\n      <th>3</th>\n      <td>3</td>\n      <td>2020-02-02</td>\n      <td>139.0</td>\n      <td>1922.0</td>\n    </tr>\n    <tr>\n      <th>4</th>\n      <td>4</td>\n      <td>2020-02-23</td>\n      <td>138.0</td>\n      <td>1939.0</td>\n    </tr>\n    <tr>\n      <th>...</th>\n      <td>...</td>\n      <td>...</td>\n      <td>...</td>\n      <td>...</td>\n    </tr>\n    <tr>\n      <th>115</th>\n      <td>115</td>\n      <td>2022-06-05</td>\n      <td>103.0</td>\n      <td>1808.0</td>\n    </tr>\n    <tr>\n      <th>116</th>\n      <td>116</td>\n      <td>2022-06-12</td>\n      <td>103.0</td>\n      <td>1718.0</td>\n    </tr>\n    <tr>\n      <th>117</th>\n      <td>117</td>\n      <td>2022-06-19</td>\n      <td>102.0</td>\n      <td>1784.0</td>\n    </tr>\n    <tr>\n      <th>118</th>\n      <td>118</td>\n      <td>2022-06-26</td>\n      <td>106.0</td>\n      <td>1960.0</td>\n    </tr>\n    <tr>\n      <th>119</th>\n      <td>119</td>\n      <td>2022-07-03</td>\n      <td>104.0</td>\n      <td>2011.0</td>\n    </tr>\n  </tbody>\n</table>\n<p>120 rows × 4 columns</p>\n</div>"
     },
     "execution_count": 35,
     "metadata": {},
     "output_type": "execute_result"
    }
   ],
   "source": [
    "df_merge = pd.merge(df_peso, df_calorie, on='data', how='inner')\n",
    "df_merge = df_merge.dropna()\n",
    "df_merge = df_merge.reset_index()\n",
    "\n",
    "print(f'Numero di ampiezza dei dati dopo l\\'eliminazione delle settimane in cui non vi sono state pesate corporee: {len(df_merge)}')\n",
    "df_merge"
   ]
  },
  {
   "cell_type": "markdown",
   "metadata": {
    "pycharm": {
     "name": "#%% md\n"
    }
   },
   "source": [
    "# Dati bidimensionali"
   ]
  },
  {
   "cell_type": "markdown",
   "metadata": {
    "pycharm": {
     "name": "#%% md\n"
    }
   },
   "source": [
    "## Calcolo dei coefficienti di correlazione campionario"
   ]
  },
  {
   "cell_type": "code",
   "execution_count": 36,
   "metadata": {
    "pycharm": {
     "name": "#%%\n"
    }
   },
   "outputs": [
    {
     "name": "stdout",
     "output_type": "stream",
     "text": [
      "Coefficiente di correlazione campionario: -0.07911156081428679, è presente una correlazione negativa\n"
     ]
    }
   ],
   "source": [
    "n = len(df_merge)\n",
    "peso_mean = df_merge['peso'].mean()\n",
    "calorie_mean = df_merge['calorie'].mean()\n",
    "s_peso = df_merge['peso'].std()\n",
    "s_calorie = df_merge['calorie'].std()\n",
    "\n",
    "r = 0\n",
    "for i in range(n):\n",
    "    r += (df_merge['peso'][i] - peso_mean) * (df_merge['calorie'][i] - calorie_mean)\n",
    "r = r / ((n - 1) * s_peso * s_calorie)\n",
    "\n",
    "if r > 0:\n",
    "    print(f'Coefficiente di correlazione campionario: {r}, è presente una correlazione positiva')\n",
    "elif r < 0:\n",
    "    print(f'Coefficiente di correlazione campionario: {r}, è presente una correlazione negativa')\n",
    "else:\n",
    "    print(f'Coefficiente di correlazione campionario: {r}, è presente una correlazione nulla')"
   ]
  },
  {
   "cell_type": "markdown",
   "metadata": {
    "pycharm": {
     "name": "#%% md\n"
    }
   },
   "source": [
    "## Diagramma a dispersione (scatter plot)"
   ]
  },
  {
   "cell_type": "code",
   "execution_count": 37,
   "metadata": {
    "pycharm": {
     "name": "#%%\n"
    }
   },
   "outputs": [
    {
     "data": {
      "text/plain": "<Figure size 720x576 with 1 Axes>",
      "image/png": "[encoded data removed]"
     },
     "metadata": {
      "needs_background": "light"
     },
     "output_type": "display_data"
    }
   ],
   "source": [
    "fig, ax = plt.subplots(figsize=(10, 8))\n",
    "ax.scatter(df_merge['peso'], df_merge['calorie'])\n",
    "ax.set_xlabel('Peso')\n",
    "ax.set_ylabel('Calorie assunte')\n",
    "\n",
    "plt.show()"
   ]
  },
  {
   "cell_type": "markdown",
   "metadata": {
    "pycharm": {
     "name": "#%% md\n"
    }
   },
   "source": [
    "Quello che emerge dalla correlazione negativa tra il peso e le calorie è che quando il peso era alto vi era un minore consumo di calorie. Al diminuire del peso, le calorie assunte sono aumentate. In effetti nella realtà questo accadde e quindi si può trovare una delle cause della non diminuzione del peso. Tuttavia, le variabili sono molte, come ad esempio una maggiore attività fisica che ha portato allo sviluppo di massa muscolare e quindi alla contribuzione della non diminuzione del peso in generale.\n",
    "\n",
    "Con i dati da Samsung Health si potrebbero fare molti altri studi, come ad esempio quanto ha influito l'attività fisica sul peso, come è cambiato il battito cardiaco e la pressione sanguigna (la pressione scese di molto), ecc. Con l'incrocio dei dati si potrebbero fare tante cose interessanti."
   ]
  }
 ],
 "metadata": {
  "kernelspec": {
   "display_name": "Python 3 (ipykernel)",
   "language": "python",
   "name": "python3"
  },
  "language_info": {
   "codemirror_mode": {
    "name": "ipython",
    "version": 3
   },
   "file_extension": ".py",
   "mimetype": "text/x-python",
   "name": "python",
   "nbconvert_exporter": "python",
   "pygments_lexer": "ipython3",
   "version": "3.9.7"
  }
 },
 "nbformat": 4,
 "nbformat_minor": 1
}