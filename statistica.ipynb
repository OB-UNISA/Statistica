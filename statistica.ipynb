{
 "cells": [
  {
   "cell_type": "markdown",
   "metadata": {
    "pycharm": {
     "name": "#%% md\n"
    }
   },
   "source": [
    "# Introduzione\n",
    "\n",
    "Il codice del progetto è open source con [licenza MIT](https://github.com/OB-UNISA/Statistica/blob/master/LICENSE) ed è possibile trovarlo al seguente link: [https://github.com/OB-UNISA/Statistica](https://github.com/OB-UNISA/Statistica).\n",
    "E' possibile visualizzare una versione interattiva online al seguente link: [https://datalore.jetbrains.com/view/notebook/uXztu3UEY3CGZEF0rBlPG4](https://datalore.jetbrains.com/view/notebook/uXztu3UEY3CGZEF0rBlPG4).\n",
    "\n",
    "I dati unidimensionali esaminati sono quelli del peso corporeo nel periodo di tre anni di un uomo di età 24 attuali.  \n",
    "I dati bidimensionali riguardano il peso corporeo della medesima persona nello stesso periodo e le calorie assunte giornalmente.\n",
    "\n",
    "Il peso corporeo è stato registrato con due bilance differenti, una per il primo anno e un'altra nei restanti e quindi vi potrebbe essere una differenza di misura.  \n",
    "I dati dei primi mesi sulle calorie assunte non sono molto precisi in quanto la quantità del cibo non veniva pesata, ma approssimata.\n",
    "\n",
    "Allo stato dell'arte, importando i dati da Samsung Health, è possibile visualizzare le proprie statistiche. Questo potrebbe non funzionare in futuro se la forma dei dati venisse cambiata, ossia il parsing dei dati non funzionerebbe più. I commenti sui dati, tuttavia, risulteranno inefficienti in quanto non sono dinamici, bensì basati su un campione di esso.\n",
    "\n",
    "Poiché i dati sono molti riguardanti il peso corporeo, circa 500, e sulle calorie assunte, quasi 1000, ne verrà preso un campione calcolato nel seguente modo:\n",
    "* Per il peso corporeo, il campione sarà il peso medio delle pesate in ogni settimana.  \n",
    "  Quindi x_i = peso medio nella settimana i.\n",
    "* Per le calorie assunte, il campione sarà la media delle calorie assunte in ogni settimana.  \n",
    "  Quindi y_i = media delle calorie assunte nella settimana i.\n",
    "\n",
    "**Nota:** Se nella settimana i non vi sono dati sul peso, essa verrà saltata e quindi anche le rispettive calorie assunte.\n",
    "\n",
    "Si è deciso di usare la media campionaria e non la mediana perché i picchi di valore sono importanti da considerare."
   ]
  },
  {
   "cell_type": "markdown",
   "metadata": {
    "pycharm": {
     "name": "#%% md\n"
    }
   },
   "source": [
    "# Installazione dipendenze"
   ]
  },
  {
   "cell_type": "code",
   "execution_count": 71,
   "metadata": {
    "pycharm": {
     "name": "#%%\n"
    }
   },
   "outputs": [
    {
     "name": "stdout",
     "output_type": "stream",
     "text": [
      "Requirement already satisfied: matplotlib in c:\\python397\\lib\\site-packages (3.5.2)\n",
      "Requirement already satisfied: python-dateutil>=2.7 in c:\\python397\\lib\\site-packages (from matplotlib) (2.8.2)\n",
      "Requirement already satisfied: fonttools>=4.22.0 in c:\\python397\\lib\\site-packages (from matplotlib) (4.33.3)\n",
      "Requirement already satisfied: pyparsing>=2.2.1 in c:\\python397\\lib\\site-packages (from matplotlib) (3.0.9)\n",
      "Requirement already satisfied: pillow>=6.2.0 in c:\\python397\\lib\\site-packages (from matplotlib) (9.1.1)\n",
      "Requirement already satisfied: cycler>=0.10 in c:\\python397\\lib\\site-packages (from matplotlib) (0.11.0)\n",
      "Requirement already satisfied: packaging>=20.0 in c:\\python397\\lib\\site-packages (from matplotlib) (21.3)\n",
      "Requirement already satisfied: numpy>=1.17 in c:\\python397\\lib\\site-packages (from matplotlib) (1.22.4)\n",
      "Requirement already satisfied: kiwisolver>=1.0.1 in c:\\python397\\lib\\site-packages (from matplotlib) (1.4.2)\n",
      "Requirement already satisfied: six>=1.5 in c:\\python397\\lib\\site-packages (from python-dateutil>=2.7->matplotlib) (1.16.0)\n",
      "Requirement already satisfied: pandas in c:\\python397\\lib\\site-packages (1.4.2)\n",
      "Requirement already satisfied: pytz>=2020.1 in c:\\python397\\lib\\site-packages (from pandas) (2022.1)\n",
      "Requirement already satisfied: numpy>=1.18.5 in c:\\python397\\lib\\site-packages (from pandas) (1.22.4)\n",
      "Requirement already satisfied: python-dateutil>=2.8.1 in c:\\python397\\lib\\site-packages (from pandas) (2.8.2)\n",
      "Requirement already satisfied: six>=1.5 in c:\\python397\\lib\\site-packages (from python-dateutil>=2.8.1->pandas) (1.16.0)\n"
     ]
    }
   ],
   "source": [
    "!pip install matplotlib\n",
    "!pip install pandas"
   ]
  },
  {
   "cell_type": "code",
   "execution_count": 72,
   "metadata": {
    "pycharm": {
     "name": "#%%\n"
    }
   },
   "outputs": [],
   "source": [
    "import matplotlib.pyplot as plt\n",
    "import pandas as pd\n",
    "import csv\n",
    "from math import sqrt"
   ]
  },
  {
   "cell_type": "markdown",
   "metadata": {
    "pycharm": {
     "name": "#%% md\n"
    }
   },
   "source": [
    "# Parsing dei dati del peso corporeo"
   ]
  },
  {
   "cell_type": "markdown",
   "metadata": {
    "pycharm": {
     "name": "#%% md\n"
    }
   },
   "source": [
    "È stato necessario arrotondare i valori del peso corporeo perché altrimenti si avrebbe avuto il numero di modalità del carattere quasi uguale all'ampiezza del dato."
   ]
  },
  {
   "cell_type": "code",
   "execution_count": 73,
   "metadata": {
    "pycharm": {
     "name": "#%%\n"
    }
   },
   "outputs": [
    {
     "data": {
      "text/plain": "          data   peso\n0   2019-12-29  140.0\n1   2020-01-05    NaN\n2   2020-01-12  140.0\n3   2020-01-19    NaN\n4   2020-01-26  139.0\n..         ...    ...\n123 2022-05-08  105.0\n124 2022-05-15  104.0\n125 2022-05-22  104.0\n126 2022-05-29  103.0\n127 2022-06-05  102.0\n\n[128 rows x 2 columns]",
      "text/html": "<div>\n<style scoped>\n    .dataframe tbody tr th:only-of-type {\n        vertical-align: middle;\n    }\n\n    .dataframe tbody tr th {\n        vertical-align: top;\n    }\n\n    .dataframe thead th {\n        text-align: right;\n    }\n</style>\n<table border=\"1\" class=\"dataframe\">\n  <thead>\n    <tr style=\"text-align: right;\">\n      <th></th>\n      <th>data</th>\n      <th>peso</th>\n    </tr>\n  </thead>\n  <tbody>\n    <tr>\n      <th>0</th>\n      <td>2019-12-29</td>\n      <td>140.0</td>\n    </tr>\n    <tr>\n      <th>1</th>\n      <td>2020-01-05</td>\n      <td>NaN</td>\n    </tr>\n    <tr>\n      <th>2</th>\n      <td>2020-01-12</td>\n      <td>140.0</td>\n    </tr>\n    <tr>\n      <th>3</th>\n      <td>2020-01-19</td>\n      <td>NaN</td>\n    </tr>\n    <tr>\n      <th>4</th>\n      <td>2020-01-26</td>\n      <td>139.0</td>\n    </tr>\n    <tr>\n      <th>...</th>\n      <td>...</td>\n      <td>...</td>\n    </tr>\n    <tr>\n      <th>123</th>\n      <td>2022-05-08</td>\n      <td>105.0</td>\n    </tr>\n    <tr>\n      <th>124</th>\n      <td>2022-05-15</td>\n      <td>104.0</td>\n    </tr>\n    <tr>\n      <th>125</th>\n      <td>2022-05-22</td>\n      <td>104.0</td>\n    </tr>\n    <tr>\n      <th>126</th>\n      <td>2022-05-29</td>\n      <td>103.0</td>\n    </tr>\n    <tr>\n      <th>127</th>\n      <td>2022-06-05</td>\n      <td>102.0</td>\n    </tr>\n  </tbody>\n</table>\n<p>128 rows × 2 columns</p>\n</div>"
     },
     "execution_count": 73,
     "metadata": {},
     "output_type": "execute_result"
    }
   ],
   "source": [
    "with open('peso.csv', 'r') as csvfile:\n",
    "    reader = csv.reader(csvfile, delimiter=',')\n",
    "    peso = []\n",
    "    reader.__next__()\n",
    "    reader.__next__()\n",
    "    for row in reader:\n",
    "        peso.append([row[1], float(row[4])])\n",
    "\n",
    "df_peso = pd.DataFrame(peso, columns=['data', 'peso'])\n",
    "df_peso['data'] = pd.to_datetime(df_peso['data'])\n",
    "df_peso = df_peso.groupby(pd.Grouper(key='data', freq='W')).mean().round(0)\n",
    "df_peso = df_peso.reset_index()\n",
    "df_peso"
   ]
  },
  {
   "cell_type": "markdown",
   "source": [
    "Sono state eliminate le settimane in cui non vi erano dati."
   ],
   "metadata": {
    "collapsed": false,
    "pycharm": {
     "name": "#%% md\n"
    }
   }
  },
  {
   "cell_type": "code",
   "execution_count": 74,
   "outputs": [
    {
     "name": "stdout",
     "output_type": "stream",
     "text": [
      "Ampiezza del dato: 116\n",
      "x_(1)=102 x_(2)=102 x_(3)=103 x_(4)=103 x_(5)=103 x_(6)=103 x_(7)=103 x_(8)=103 x_(9)=103 x_(10)=103 x_(11)=103 x_(12)=104 x_(13)=104 x_(14)=104 x_(15)=104 x_(16)=104 x_(17)=104 x_(18)=104 x_(19)=104 x_(20)=104 x_(21)=105 x_(22)=105 x_(23)=105 x_(24)=105 x_(25)=105 x_(26)=105 x_(27)=105 x_(28)=105 x_(29)=105 x_(30)=105 x_(31)=106 x_(32)=106 x_(33)=106 x_(34)=106 x_(35)=106 x_(36)=107 x_(37)=107 x_(38)=108 x_(39)=108 x_(40)=108 x_(41)=109 x_(42)=109 x_(43)=110 x_(44)=111 x_(45)=111 x_(46)=112 x_(47)=112 x_(48)=113 x_(49)=114 x_(50)=115 x_(51)=116 x_(52)=117 x_(53)=117 x_(54)=117 x_(55)=117 x_(56)=117 x_(57)=117 x_(58)=118 x_(59)=118 x_(60)=118 x_(61)=118 x_(62)=118 x_(63)=118 x_(64)=118 x_(65)=118 x_(66)=119 x_(67)=120 x_(68)=121 x_(69)=121 x_(70)=121 x_(71)=121 x_(72)=122 x_(73)=122 x_(74)=122 x_(75)=122 x_(76)=122 x_(77)=123 x_(78)=124 x_(79)=124 x_(80)=125 x_(81)=125 x_(82)=125 x_(83)=126 x_(84)=126 x_(85)=126 x_(86)=126 x_(87)=126 x_(88)=126 x_(89)=127 x_(90)=127 x_(91)=127 x_(92)=128 x_(93)=128 x_(94)=129 x_(95)=129 x_(96)=129 x_(97)=130 x_(98)=130 x_(99)=131 x_(100)=131 x_(101)=132 x_(102)=132 x_(103)=133 x_(104)=133 x_(105)=134 x_(106)=134 x_(107)=135 x_(108)=136 x_(109)=137 x_(110)=137 x_(111)=138 x_(112)=138 x_(113)=139 x_(114)=139 x_(115)=140 x_(116)=140 "
     ]
    }
   ],
   "source": [
    "x_not_sorted = []\n",
    "date_valide = []\n",
    "for i in range(len(df_peso)):\n",
    "    if not pd.isnull(df_peso.iloc[i]['peso']):\n",
    "        x_not_sorted.append(int(df_peso.iloc[i]['peso']))\n",
    "        date_valide.append(df_peso.iloc[i]['data'])\n",
    "x = sorted(x_not_sorted)\n",
    "n = len(x)\n",
    "print(f'Ampiezza del dato: {n}')\n",
    "for i, x_i in enumerate(x):\n",
    "    print(f'x_({i + 1})={x_i}', end=' ')"
   ],
   "metadata": {
    "collapsed": false,
    "pycharm": {
     "name": "#%%\n"
    }
   }
  },
  {
   "cell_type": "markdown",
   "metadata": {
    "pycharm": {
     "name": "#%% md\n"
    }
   },
   "source": [
    "# Costruzione della tabella delle frequenze"
   ]
  },
  {
   "cell_type": "markdown",
   "metadata": {
    "pycharm": {
     "name": "#%% md\n"
    }
   },
   "source": [
    "## Calcolo delle modalità"
   ]
  },
  {
   "cell_type": "code",
   "execution_count": 75,
   "metadata": {
    "pycharm": {
     "name": "#%%\n"
    }
   },
   "outputs": [
    {
     "name": "stdout",
     "output_type": "stream",
     "text": [
      "v_1=102 v_2=103 v_3=104 v_4=105 v_5=106 v_6=107 v_7=108 v_8=109 v_9=110 v_10=111 v_11=112 v_12=113 v_13=114 v_14=115 v_15=116 v_16=117 v_17=118 v_18=119 v_19=120 v_20=121 v_21=122 v_22=123 v_23=124 v_24=125 v_25=126 v_26=127 v_27=128 v_28=129 v_29=130 v_30=131 v_31=132 v_32=133 v_33=134 v_34=135 v_35=136 v_36=137 v_37=138 v_38=139 v_39=140 "
     ]
    }
   ],
   "source": [
    "v_x = [x[0]]\n",
    "for i in range(1, len(x)):\n",
    "    if v_x[-1] != x[i]:\n",
    "        v_x.append(x[i])\n",
    "\n",
    "k_x = len(v_x)\n",
    "\n",
    "for i, v_i in enumerate(v_x):\n",
    "    print(f'v_{i + 1}={v_i}', end=' ')"
   ]
  },
  {
   "cell_type": "markdown",
   "metadata": {
    "pycharm": {
     "name": "#%% md\n"
    }
   },
   "source": [
    "## Calcolo della frequenza assoluta delle modalità"
   ]
  },
  {
   "cell_type": "code",
   "execution_count": 76,
   "metadata": {
    "pycharm": {
     "name": "#%%\n"
    }
   },
   "outputs": [
    {
     "name": "stdout",
     "output_type": "stream",
     "text": [
      "f_1=2 f_2=9 f_3=9 f_4=10 f_5=5 f_6=2 f_7=3 f_8=2 f_9=1 f_10=2 f_11=2 f_12=1 f_13=1 f_14=1 f_15=1 f_16=6 f_17=8 f_18=1 f_19=1 f_20=4 f_21=5 f_22=1 f_23=2 f_24=3 f_25=6 f_26=3 f_27=2 f_28=3 f_29=2 f_30=2 f_31=2 f_32=2 f_33=2 f_34=1 f_35=1 f_36=2 f_37=2 f_38=2 f_39=2 "
     ]
    }
   ],
   "source": [
    "f_x = [1]\n",
    "for i in range(1, n):\n",
    "    if x[i - 1] == x[i]:\n",
    "        f_x[-1] += 1\n",
    "    else:\n",
    "        f_x.append(1)\n",
    "\n",
    "for i, f_i in enumerate(f_x):\n",
    "    print(f'f_{i + 1}={f_i}', end=' ')"
   ]
  },
  {
   "cell_type": "markdown",
   "metadata": {
    "pycharm": {
     "name": "#%% md\n"
    }
   },
   "source": [
    "## Calcolo della frequenza cumulativa assoluta delle modalità"
   ]
  },
  {
   "cell_type": "code",
   "execution_count": 77,
   "metadata": {
    "pycharm": {
     "name": "#%%\n"
    }
   },
   "outputs": [
    {
     "name": "stdout",
     "output_type": "stream",
     "text": [
      "F_1=2 F_2=11 F_3=20 F_4=30 F_5=35 F_6=37 F_7=40 F_8=42 F_9=43 F_10=45 F_11=47 F_12=48 F_13=49 F_14=50 F_15=51 F_16=57 F_17=65 F_18=66 F_19=67 F_20=71 F_21=76 F_22=77 F_23=79 F_24=82 F_25=88 F_26=91 F_27=93 F_28=96 F_29=98 F_30=100 F_31=102 F_32=104 F_33=106 F_34=107 F_35=108 F_36=110 F_37=112 F_38=114 F_39=116 "
     ]
    }
   ],
   "source": [
    "F_x = [f_x[0]]\n",
    "for i in range(1, k_x):\n",
    "    # Uso della relazione di ricorrenza\n",
    "    F_x.append(F_x[-1] + f_x[i])\n",
    "\n",
    "for i, F_i in enumerate(F_x):\n",
    "    print(f'F_{i + 1}={F_i}', end=' ')"
   ]
  },
  {
   "cell_type": "markdown",
   "metadata": {
    "pycharm": {
     "name": "#%% md\n"
    }
   },
   "source": [
    "## Calcolo della frequenza relativa delle modalità"
   ]
  },
  {
   "cell_type": "code",
   "execution_count": 78,
   "metadata": {
    "pycharm": {
     "name": "#%%\n"
    }
   },
   "outputs": [
    {
     "name": "stdout",
     "output_type": "stream",
     "text": [
      "p_1=0.017 p_2=0.078 p_3=0.078 p_4=0.086 p_5=0.043 p_6=0.017 p_7=0.026 p_8=0.017 p_9=0.009 p_10=0.017 p_11=0.017 p_12=0.009 p_13=0.009 p_14=0.009 p_15=0.009 p_16=0.052 p_17=0.069 p_18=0.009 p_19=0.009 p_20=0.034 p_21=0.043 p_22=0.009 p_23=0.017 p_24=0.026 p_25=0.052 p_26=0.026 p_27=0.017 p_28=0.026 p_29=0.017 p_30=0.017 p_31=0.017 p_32=0.017 p_33=0.017 p_34=0.009 p_35=0.009 p_36=0.017 p_37=0.017 p_38=0.017 p_39=0.017 "
     ]
    }
   ],
   "source": [
    "p_x = []\n",
    "for f_i in f_x:\n",
    "    p_x.append(f_i / n)\n",
    "\n",
    "for i, p_i in enumerate(p_x):\n",
    "    print(f'p_{i + 1}={p_i:.3f}', end=' ')"
   ]
  },
  {
   "cell_type": "markdown",
   "metadata": {
    "pycharm": {
     "name": "#%% md\n"
    }
   },
   "source": [
    "## Calcolo della frequenza cumulativa relativa delle modalità"
   ]
  },
  {
   "cell_type": "code",
   "execution_count": 79,
   "metadata": {
    "pycharm": {
     "name": "#%%\n"
    }
   },
   "outputs": [
    {
     "name": "stdout",
     "output_type": "stream",
     "text": [
      "P_1=0.017 P_2=0.095 P_3=0.172 P_4=0.259 P_5=0.302 P_6=0.319 P_7=0.345 P_8=0.362 P_9=0.371 P_10=0.388 P_11=0.405 P_12=0.414 P_13=0.422 P_14=0.431 P_15=0.440 P_16=0.491 P_17=0.560 P_18=0.569 P_19=0.578 P_20=0.612 P_21=0.655 P_22=0.664 P_23=0.681 P_24=0.707 P_25=0.759 P_26=0.784 P_27=0.802 P_28=0.828 P_29=0.845 P_30=0.862 P_31=0.879 P_32=0.897 P_33=0.914 P_34=0.922 P_35=0.931 P_36=0.948 P_37=0.966 P_38=0.983 P_39=1.000 "
     ]
    }
   ],
   "source": [
    "P_x = []\n",
    "for F_i in F_x:\n",
    "    P_x.append(F_i / n)\n",
    "\n",
    "for i, P_i in enumerate(P_x):\n",
    "    print(f'P_{i + 1}={P_i:.3f}', end=' ')"
   ]
  },
  {
   "cell_type": "markdown",
   "metadata": {
    "pycharm": {
     "name": "#%% md\n"
    }
   },
   "source": [
    "## Tabella delle frequenze"
   ]
  },
  {
   "cell_type": "code",
   "execution_count": 80,
   "outputs": [
    {
     "data": {
      "text/plain": "    v_i  f_i       p_i  F_i       P_i\ni                                    \n1   102    2  0.017241    2  0.017241\n2   103    9  0.077586   11  0.094828\n3   104    9  0.077586   20  0.172414\n4   105   10  0.086207   30  0.258621\n5   106    5  0.043103   35  0.301724\n6   107    2  0.017241   37  0.318966\n7   108    3  0.025862   40  0.344828\n8   109    2  0.017241   42  0.362069\n9   110    1  0.008621   43  0.370690\n10  111    2  0.017241   45  0.387931\n11  112    2  0.017241   47  0.405172\n12  113    1  0.008621   48  0.413793\n13  114    1  0.008621   49  0.422414\n14  115    1  0.008621   50  0.431034\n15  116    1  0.008621   51  0.439655\n16  117    6  0.051724   57  0.491379\n17  118    8  0.068966   65  0.560345\n18  119    1  0.008621   66  0.568966\n19  120    1  0.008621   67  0.577586\n20  121    4  0.034483   71  0.612069\n21  122    5  0.043103   76  0.655172\n22  123    1  0.008621   77  0.663793\n23  124    2  0.017241   79  0.681034\n24  125    3  0.025862   82  0.706897\n25  126    6  0.051724   88  0.758621\n26  127    3  0.025862   91  0.784483\n27  128    2  0.017241   93  0.801724\n28  129    3  0.025862   96  0.827586\n29  130    2  0.017241   98  0.844828\n30  131    2  0.017241  100  0.862069\n31  132    2  0.017241  102  0.879310\n32  133    2  0.017241  104  0.896552\n33  134    2  0.017241  106  0.913793\n34  135    1  0.008621  107  0.922414\n35  136    1  0.008621  108  0.931034\n36  137    2  0.017241  110  0.948276\n37  138    2  0.017241  112  0.965517\n38  139    2  0.017241  114  0.982759\n39  140    2  0.017241  116  1.000000",
      "text/html": "<div>\n<style scoped>\n    .dataframe tbody tr th:only-of-type {\n        vertical-align: middle;\n    }\n\n    .dataframe tbody tr th {\n        vertical-align: top;\n    }\n\n    .dataframe thead th {\n        text-align: right;\n    }\n</style>\n<table border=\"1\" class=\"dataframe\">\n  <thead>\n    <tr style=\"text-align: right;\">\n      <th></th>\n      <th>v_i</th>\n      <th>f_i</th>\n      <th>p_i</th>\n      <th>F_i</th>\n      <th>P_i</th>\n    </tr>\n    <tr>\n      <th>i</th>\n      <th></th>\n      <th></th>\n      <th></th>\n      <th></th>\n      <th></th>\n    </tr>\n  </thead>\n  <tbody>\n    <tr>\n      <th>1</th>\n      <td>102</td>\n      <td>2</td>\n      <td>0.017241</td>\n      <td>2</td>\n      <td>0.017241</td>\n    </tr>\n    <tr>\n      <th>2</th>\n      <td>103</td>\n      <td>9</td>\n      <td>0.077586</td>\n      <td>11</td>\n      <td>0.094828</td>\n    </tr>\n    <tr>\n      <th>3</th>\n      <td>104</td>\n      <td>9</td>\n      <td>0.077586</td>\n      <td>20</td>\n      <td>0.172414</td>\n    </tr>\n    <tr>\n      <th>4</th>\n      <td>105</td>\n      <td>10</td>\n      <td>0.086207</td>\n      <td>30</td>\n      <td>0.258621</td>\n    </tr>\n    <tr>\n      <th>5</th>\n      <td>106</td>\n      <td>5</td>\n      <td>0.043103</td>\n      <td>35</td>\n      <td>0.301724</td>\n    </tr>\n    <tr>\n      <th>6</th>\n      <td>107</td>\n      <td>2</td>\n      <td>0.017241</td>\n      <td>37</td>\n      <td>0.318966</td>\n    </tr>\n    <tr>\n      <th>7</th>\n      <td>108</td>\n      <td>3</td>\n      <td>0.025862</td>\n      <td>40</td>\n      <td>0.344828</td>\n    </tr>\n    <tr>\n      <th>8</th>\n      <td>109</td>\n      <td>2</td>\n      <td>0.017241</td>\n      <td>42</td>\n      <td>0.362069</td>\n    </tr>\n    <tr>\n      <th>9</th>\n      <td>110</td>\n      <td>1</td>\n      <td>0.008621</td>\n      <td>43</td>\n      <td>0.370690</td>\n    </tr>\n    <tr>\n      <th>10</th>\n      <td>111</td>\n      <td>2</td>\n      <td>0.017241</td>\n      <td>45</td>\n      <td>0.387931</td>\n    </tr>\n    <tr>\n      <th>11</th>\n      <td>112</td>\n      <td>2</td>\n      <td>0.017241</td>\n      <td>47</td>\n      <td>0.405172</td>\n    </tr>\n    <tr>\n      <th>12</th>\n      <td>113</td>\n      <td>1</td>\n      <td>0.008621</td>\n      <td>48</td>\n      <td>0.413793</td>\n    </tr>\n    <tr>\n      <th>13</th>\n      <td>114</td>\n      <td>1</td>\n      <td>0.008621</td>\n      <td>49</td>\n      <td>0.422414</td>\n    </tr>\n    <tr>\n      <th>14</th>\n      <td>115</td>\n      <td>1</td>\n      <td>0.008621</td>\n      <td>50</td>\n      <td>0.431034</td>\n    </tr>\n    <tr>\n      <th>15</th>\n      <td>116</td>\n      <td>1</td>\n      <td>0.008621</td>\n      <td>51</td>\n      <td>0.439655</td>\n    </tr>\n    <tr>\n      <th>16</th>\n      <td>117</td>\n      <td>6</td>\n      <td>0.051724</td>\n      <td>57</td>\n      <td>0.491379</td>\n    </tr>\n    <tr>\n      <th>17</th>\n      <td>118</td>\n      <td>8</td>\n      <td>0.068966</td>\n      <td>65</td>\n      <td>0.560345</td>\n    </tr>\n    <tr>\n      <th>18</th>\n      <td>119</td>\n      <td>1</td>\n      <td>0.008621</td>\n      <td>66</td>\n      <td>0.568966</td>\n    </tr>\n    <tr>\n      <th>19</th>\n      <td>120</td>\n      <td>1</td>\n      <td>0.008621</td>\n      <td>67</td>\n      <td>0.577586</td>\n    </tr>\n    <tr>\n      <th>20</th>\n      <td>121</td>\n      <td>4</td>\n      <td>0.034483</td>\n      <td>71</td>\n      <td>0.612069</td>\n    </tr>\n    <tr>\n      <th>21</th>\n      <td>122</td>\n      <td>5</td>\n      <td>0.043103</td>\n      <td>76</td>\n      <td>0.655172</td>\n    </tr>\n    <tr>\n      <th>22</th>\n      <td>123</td>\n      <td>1</td>\n      <td>0.008621</td>\n      <td>77</td>\n      <td>0.663793</td>\n    </tr>\n    <tr>\n      <th>23</th>\n      <td>124</td>\n      <td>2</td>\n      <td>0.017241</td>\n      <td>79</td>\n      <td>0.681034</td>\n    </tr>\n    <tr>\n      <th>24</th>\n      <td>125</td>\n      <td>3</td>\n      <td>0.025862</td>\n      <td>82</td>\n      <td>0.706897</td>\n    </tr>\n    <tr>\n      <th>25</th>\n      <td>126</td>\n      <td>6</td>\n      <td>0.051724</td>\n      <td>88</td>\n      <td>0.758621</td>\n    </tr>\n    <tr>\n      <th>26</th>\n      <td>127</td>\n      <td>3</td>\n      <td>0.025862</td>\n      <td>91</td>\n      <td>0.784483</td>\n    </tr>\n    <tr>\n      <th>27</th>\n      <td>128</td>\n      <td>2</td>\n      <td>0.017241</td>\n      <td>93</td>\n      <td>0.801724</td>\n    </tr>\n    <tr>\n      <th>28</th>\n      <td>129</td>\n      <td>3</td>\n      <td>0.025862</td>\n      <td>96</td>\n      <td>0.827586</td>\n    </tr>\n    <tr>\n      <th>29</th>\n      <td>130</td>\n      <td>2</td>\n      <td>0.017241</td>\n      <td>98</td>\n      <td>0.844828</td>\n    </tr>\n    <tr>\n      <th>30</th>\n      <td>131</td>\n      <td>2</td>\n      <td>0.017241</td>\n      <td>100</td>\n      <td>0.862069</td>\n    </tr>\n    <tr>\n      <th>31</th>\n      <td>132</td>\n      <td>2</td>\n      <td>0.017241</td>\n      <td>102</td>\n      <td>0.879310</td>\n    </tr>\n    <tr>\n      <th>32</th>\n      <td>133</td>\n      <td>2</td>\n      <td>0.017241</td>\n      <td>104</td>\n      <td>0.896552</td>\n    </tr>\n    <tr>\n      <th>33</th>\n      <td>134</td>\n      <td>2</td>\n      <td>0.017241</td>\n      <td>106</td>\n      <td>0.913793</td>\n    </tr>\n    <tr>\n      <th>34</th>\n      <td>135</td>\n      <td>1</td>\n      <td>0.008621</td>\n      <td>107</td>\n      <td>0.922414</td>\n    </tr>\n    <tr>\n      <th>35</th>\n      <td>136</td>\n      <td>1</td>\n      <td>0.008621</td>\n      <td>108</td>\n      <td>0.931034</td>\n    </tr>\n    <tr>\n      <th>36</th>\n      <td>137</td>\n      <td>2</td>\n      <td>0.017241</td>\n      <td>110</td>\n      <td>0.948276</td>\n    </tr>\n    <tr>\n      <th>37</th>\n      <td>138</td>\n      <td>2</td>\n      <td>0.017241</td>\n      <td>112</td>\n      <td>0.965517</td>\n    </tr>\n    <tr>\n      <th>38</th>\n      <td>139</td>\n      <td>2</td>\n      <td>0.017241</td>\n      <td>114</td>\n      <td>0.982759</td>\n    </tr>\n    <tr>\n      <th>39</th>\n      <td>140</td>\n      <td>2</td>\n      <td>0.017241</td>\n      <td>116</td>\n      <td>1.000000</td>\n    </tr>\n  </tbody>\n</table>\n</div>"
     },
     "execution_count": 80,
     "metadata": {},
     "output_type": "execute_result"
    }
   ],
   "source": [
    "data_table = []\n",
    "for i in range(k_x):\n",
    "    data_table.append([i + 1, v_x[i], f_x[i], p_x[i], F_x[i], P_x[i]])\n",
    "\n",
    "df_data_table = pd.DataFrame(data_table, columns=['i', 'v_i', 'f_i', 'p_i', 'F_i', 'P_i'])\n",
    "df_data_table.set_index('i', inplace=True)\n",
    "df_data_table"
   ],
   "metadata": {
    "collapsed": false,
    "pycharm": {
     "name": "#%%\n"
    }
   }
  },
  {
   "cell_type": "markdown",
   "source": [
    "# Grafici della distribuzione delle frequenze assolute"
   ],
   "metadata": {
    "collapsed": false,
    "pycharm": {
     "name": "#%% md\n"
    }
   }
  },
  {
   "cell_type": "markdown",
   "source": [
    "## Grafico a linee"
   ],
   "metadata": {
    "collapsed": false,
    "pycharm": {
     "name": "#%% md\n"
    }
   }
  },
  {
   "cell_type": "code",
   "execution_count": 81,
   "outputs": [
    {
     "data": {
      "text/plain": "<Figure size 432x288 with 1 Axes>",
      "image/png": "[encoded data removed]"
     },
     "metadata": {
      "needs_background": "light"
     },
     "output_type": "display_data"
    }
   ],
   "source": [
    "fig, ax = plt.subplots()\n",
    "ax.plot(v_x, f_x, '-o')\n",
    "ax.set_title('Distribuzione delle frequenze assolute')\n",
    "ax.set_xlabel(r'$v_i$')\n",
    "ax.set_ylabel(r'$f_i$')\n",
    "ax.grid()\n",
    "\n",
    "plt.show()"
   ],
   "metadata": {
    "collapsed": false,
    "pycharm": {
     "name": "#%%\n"
    }
   }
  },
  {
   "cell_type": "markdown",
   "source": [
    "## Istogramma"
   ],
   "metadata": {
    "collapsed": false,
    "pycharm": {
     "name": "#%% md\n"
    }
   }
  },
  {
   "cell_type": "code",
   "execution_count": 82,
   "outputs": [],
   "source": [
    "def plot_histogram_classe(ampiezza_classe):\n",
    "    min_value = x[0]\n",
    "    max_value = x[n - 1]\n",
    "\n",
    "    fig, ax = plt.subplots()\n",
    "    values, bins, bars = ax.hist(x, bins=list(range(min_value, max_value + ampiezza_classe, ampiezza_classe)), edgecolor='black', linewidth=1.5)\n",
    "\n",
    "    ax.set_xticks(bins)\n",
    "    ax.bar_label(bars)\n",
    "    ax.set_title(f'Distribuzione delle frequenze assolute con classe di ampiezza {ampiezza_classe}')\n",
    "    ax.set_xlabel(r'$v_i$')\n",
    "    ax.set_ylabel(r'$f_i$')\n",
    "\n",
    "    plt.show()"
   ],
   "metadata": {
    "collapsed": false,
    "pycharm": {
     "name": "#%%\n"
    }
   }
  },
  {
   "cell_type": "code",
   "execution_count": 83,
   "outputs": [
    {
     "data": {
      "text/plain": "<Figure size 432x288 with 1 Axes>",
      "image/png": "[encoded data removed]"
     },
     "metadata": {
      "needs_background": "light"
     },
     "output_type": "display_data"
    }
   ],
   "source": [
    "plot_histogram_classe(3)"
   ],
   "metadata": {
    "collapsed": false,
    "pycharm": {
     "name": "#%%\n"
    }
   }
  },
  {
   "cell_type": "code",
   "execution_count": 84,
   "outputs": [
    {
     "data": {
      "text/plain": "<Figure size 432x288 with 1 Axes>",
      "image/png": "[encoded data removed]"
     },
     "metadata": {
      "needs_background": "light"
     },
     "output_type": "display_data"
    }
   ],
   "source": [
    "plot_histogram_classe(5)"
   ],
   "metadata": {
    "collapsed": false,
    "pycharm": {
     "name": "#%%\n"
    }
   }
  },
  {
   "cell_type": "markdown",
   "source": [
    "# Indici di posizione"
   ],
   "metadata": {
    "collapsed": false,
    "pycharm": {
     "name": "#%% md\n"
    }
   }
  },
  {
   "cell_type": "markdown",
   "source": [
    "## Calcolo della media campionaria"
   ],
   "metadata": {
    "collapsed": false,
    "pycharm": {
     "name": "#%% md\n"
    }
   }
  },
  {
   "cell_type": "code",
   "execution_count": 85,
   "outputs": [
    {
     "name": "stdout",
     "output_type": "stream",
     "text": [
      "Media campionaria: 117.42241379310344\n"
     ]
    }
   ],
   "source": [
    "x_mean = 0\n",
    "for x_i in x:\n",
    "    x_mean += x_i\n",
    "x_mean = x_mean / n\n",
    "\n",
    "print(f'Media campionaria: {x_mean}')"
   ],
   "metadata": {
    "collapsed": false,
    "pycharm": {
     "name": "#%%\n"
    }
   }
  },
  {
   "cell_type": "markdown",
   "source": [
    "## Calcolo della media pesata"
   ],
   "metadata": {
    "collapsed": false,
    "pycharm": {
     "name": "#%% md\n"
    }
   }
  },
  {
   "cell_type": "code",
   "execution_count": 86,
   "outputs": [
    {
     "name": "stdout",
     "output_type": "stream",
     "text": [
      "Media pesata: 117.42241379310344\n"
     ]
    }
   ],
   "source": [
    "x_mean_pesata = 0\n",
    "for i in range(k_x):\n",
    "    x_mean_pesata += (f_x[i] / n) * v_x[i]\n",
    "\n",
    "print(f'Media pesata: {x_mean_pesata}')"
   ],
   "metadata": {
    "collapsed": false,
    "pycharm": {
     "name": "#%%\n"
    }
   }
  },
  {
   "cell_type": "markdown",
   "source": [
    "## Calcolo della mediana campionaria"
   ],
   "metadata": {
    "collapsed": false,
    "pycharm": {
     "name": "#%% md\n"
    }
   }
  },
  {
   "cell_type": "code",
   "execution_count": 87,
   "outputs": [
    {
     "name": "stdout",
     "output_type": "stream",
     "text": [
      "Mediana campionaria: 118.0\n"
     ]
    }
   ],
   "source": [
    "if n % 2 == 0:\n",
    "    x_mediana = (x[n // 2] + x[n // 2 - 1]) / 2\n",
    "else:\n",
    "    x_mediana = x[n // 2]\n",
    "\n",
    "print(f'Mediana campionaria: {x_mediana}')"
   ],
   "metadata": {
    "collapsed": false,
    "pycharm": {
     "name": "#%%\n"
    }
   }
  },
  {
   "cell_type": "markdown",
   "source": [
    "## Calcolo della moda campionaria"
   ],
   "metadata": {
    "collapsed": false,
    "pycharm": {
     "name": "#%% md\n"
    }
   }
  },
  {
   "cell_type": "code",
   "execution_count": 88,
   "outputs": [
    {
     "name": "stdout",
     "output_type": "stream",
     "text": [
      "Moda campionaria unimodale: v_4 = 105, f_4 = 10\n"
     ]
    }
   ],
   "source": [
    "max_f_x = 0\n",
    "index = 0\n",
    "count = 0\n",
    "\n",
    "for i, f_i in enumerate(f_x):\n",
    "    if f_i > max_f_x:\n",
    "        max_f_x = f_i\n",
    "        count = 1\n",
    "        index = i\n",
    "    elif f_i == max_f_x:\n",
    "        count += 1\n",
    "\n",
    "x_moda = v_x[index]\n",
    "if count == 1:\n",
    "    print(f'Moda campionaria unimodale: v_{index + 1} = {x_moda}, f_{index + 1} = {max_f_x}')\n",
    "elif count == 2:\n",
    "    print(f'Moda campionaria bimodale: v_{index + 1} = {x_moda}, f_{index + 1} = {max_f_x}')\n",
    "else:\n",
    "    print(f'Moda campionaria multimodale: v_{index + 1} = {x_moda}, f_{index + 1} = {max_f_x}')"
   ],
   "metadata": {
    "collapsed": false,
    "pycharm": {
     "name": "#%%\n"
    }
   }
  },
  {
   "cell_type": "markdown",
   "source": [
    "# Indici di variabilità"
   ],
   "metadata": {
    "collapsed": false,
    "pycharm": {
     "name": "#%% md\n"
    }
   }
  },
  {
   "cell_type": "markdown",
   "source": [
    "## Calcolo della varianza campionaria\n",
    "\n",
    "La varianza dei dati rispetto alla media campionaria è un po' alta."
   ],
   "metadata": {
    "collapsed": false,
    "pycharm": {
     "name": "#%% md\n"
    }
   }
  },
  {
   "cell_type": "code",
   "execution_count": 89,
   "outputs": [
    {
     "name": "stdout",
     "output_type": "stream",
     "text": [
      "Varianza campionaria: 132.08958020989505\n"
     ]
    }
   ],
   "source": [
    "s2_x = 0\n",
    "for x_i in x:\n",
    "    s2_x += (x_i - x_mean) ** 2\n",
    "\n",
    "s2_x = s2_x / (n - 1)\n",
    "print(f'Varianza campionaria: {s2_x}')"
   ],
   "metadata": {
    "collapsed": false,
    "pycharm": {
     "name": "#%%\n"
    }
   }
  },
  {
   "cell_type": "markdown",
   "source": [
    "## Calcolo della deviazione standard campionaria"
   ],
   "metadata": {
    "collapsed": false,
    "pycharm": {
     "name": "#%% md\n"
    }
   }
  },
  {
   "cell_type": "code",
   "execution_count": 90,
   "outputs": [
    {
     "name": "stdout",
     "output_type": "stream",
     "text": [
      "Deviazione standard campionaria: 11.493023110126206\n"
     ]
    }
   ],
   "source": [
    "s_x = sqrt(s2_x)\n",
    "print(f'Deviazione standard campionaria: {s_x}')"
   ],
   "metadata": {
    "collapsed": false,
    "pycharm": {
     "name": "#%%\n"
    }
   }
  },
  {
   "cell_type": "markdown",
   "source": [
    "## Calcolo dello scarto medio assoluto"
   ],
   "metadata": {
    "collapsed": false,
    "pycharm": {
     "name": "#%% md\n"
    }
   }
  },
  {
   "cell_type": "code",
   "execution_count": 91,
   "outputs": [
    {
     "name": "stdout",
     "output_type": "stream",
     "text": [
      "Scarto medio assoluto: 9.897889417360267\n"
     ]
    }
   ],
   "source": [
    "sa_x = 0\n",
    "for x_i in x:\n",
    "    sa_x += abs(x_i - x_mean)\n",
    "\n",
    "sa_x = sa_x / n\n",
    "print(f'Scarto medio assoluto: {sa_x}')"
   ],
   "metadata": {
    "collapsed": false,
    "pycharm": {
     "name": "#%%\n"
    }
   }
  },
  {
   "cell_type": "markdown",
   "source": [
    "## Calcolo dell'ampiezza del campo di variazione"
   ],
   "metadata": {
    "collapsed": false,
    "pycharm": {
     "name": "#%% md\n"
    }
   }
  },
  {
   "cell_type": "code",
   "execution_count": 92,
   "outputs": [
    {
     "name": "stdout",
     "output_type": "stream",
     "text": [
      "Ampiezza del campo di variazione: 38\n"
     ]
    }
   ],
   "source": [
    "w_x = x[n - 1] - x[0]\n",
    "print(f'Ampiezza del campo di variazione: {w_x}')"
   ],
   "metadata": {
    "collapsed": false,
    "pycharm": {
     "name": "#%%\n"
    }
   }
  },
  {
   "cell_type": "markdown",
   "source": [
    "## Calcolo del coefficiente di variazione"
   ],
   "metadata": {
    "collapsed": false,
    "pycharm": {
     "name": "#%% md\n"
    }
   }
  },
  {
   "cell_type": "code",
   "execution_count": 93,
   "outputs": [
    {
     "name": "stdout",
     "output_type": "stream",
     "text": [
      "Coefficiente di variazione: 0.09787759201047205\n"
     ]
    }
   ],
   "source": [
    "cv_x = s_x / x_mean\n",
    "print(f'Coefficiente di variazione: {cv_x}')"
   ],
   "metadata": {
    "collapsed": false,
    "pycharm": {
     "name": "#%%\n"
    }
   }
  },
  {
   "cell_type": "markdown",
   "source": [
    "# Indici di forma"
   ],
   "metadata": {
    "collapsed": false,
    "pycharm": {
     "name": "#%% md\n"
    }
   }
  },
  {
   "cell_type": "markdown",
   "source": [
    "## Calcolo dell'indice di simmetria\n",
    "\n",
    "Dall'istogramma si nota una coda a destra, infatti l'indice è positivo."
   ],
   "metadata": {
    "collapsed": false,
    "pycharm": {
     "name": "#%% md\n"
    }
   }
  },
  {
   "cell_type": "code",
   "execution_count": 94,
   "outputs": [
    {
     "name": "stdout",
     "output_type": "stream",
     "text": [
      "Indice di simmetria: 0.25738968823736946, asimmetria positiva\n"
     ]
    }
   ],
   "source": [
    "g_x = 0\n",
    "for x_i in x:\n",
    "    g_x += (x_i - x_mean) ** 3\n",
    "\n",
    "g_x = g_x / n\n",
    "g_x = g_x / (s_x ** 3)\n",
    "\n",
    "if g_x < 0:\n",
    "    print(f'Indice di simmetria: {g_x}, asimmetria negativa')\n",
    "else:\n",
    "    print(f'Indice di simmetria: {g_x}, asimmetria positiva')"
   ],
   "metadata": {
    "collapsed": false,
    "pycharm": {
     "name": "#%%\n"
    }
   }
  },
  {
   "cell_type": "code",
   "execution_count": 95,
   "outputs": [
    {
     "data": {
      "text/plain": "<Figure size 432x288 with 1 Axes>",
      "image/png": "[encoded data removed]"
     },
     "metadata": {
      "needs_background": "light"
     },
     "output_type": "display_data"
    }
   ],
   "source": [
    "plot_histogram_classe(1)"
   ],
   "metadata": {
    "collapsed": false,
    "pycharm": {
     "name": "#%%\n"
    }
   }
  },
  {
   "cell_type": "markdown",
   "source": [
    "## Calcolo dell'indice di curtosi"
   ],
   "metadata": {
    "collapsed": false,
    "pycharm": {
     "name": "#%% md\n"
    }
   }
  },
  {
   "cell_type": "code",
   "execution_count": 96,
   "outputs": [
    {
     "name": "stdout",
     "output_type": "stream",
     "text": [
      "Indice di curtosi: -1.2037434028051623, è presente una carenza di dati nelle classi centrali\n"
     ]
    }
   ],
   "source": [
    "curtosi_x = 0\n",
    "for x_i in x:\n",
    "    curtosi_x += (x_i - x_mean) ** 4\n",
    "\n",
    "curtosi_x = curtosi_x / n\n",
    "curtosi_x = curtosi_x / (s_x ** 4)\n",
    "curtosi_x = curtosi_x - 3\n",
    "\n",
    "if curtosi_x > 0:\n",
    "    print(f'Indice di curtosi: {curtosi_x}, è presente un eccesso di dati nelle classi centrali')\n",
    "elif curtosi_x < 0:\n",
    "    print(f'Indice di curtosi: {curtosi_x}, è presente una carenza di dati nelle classi centrali')\n",
    "else:\n",
    "    print(f'Indice di curtosi: {curtosi_x}, è presente una distribuzione di dati come quella di una distribuzione normale')"
   ],
   "metadata": {
    "collapsed": false,
    "pycharm": {
     "name": "#%%\n"
    }
   }
  },
  {
   "cell_type": "markdown",
   "source": [
    "# Quartili"
   ],
   "metadata": {
    "collapsed": false,
    "pycharm": {
     "name": "#%% md\n"
    }
   }
  },
  {
   "cell_type": "markdown",
   "source": [
    "## Calcolo dei quartili"
   ],
   "metadata": {
    "collapsed": false,
    "pycharm": {
     "name": "#%% md\n"
    }
   }
  },
  {
   "cell_type": "code",
   "execution_count": 97,
   "outputs": [],
   "source": [
    "def get_quartile(k):\n",
    "    np = n * (k / 100)\n",
    "    if np % 1 == 0:\n",
    "        return (x[int(np)] + x[int(np) - 1]) / 2\n",
    "    else:\n",
    "        return x[int(np)]"
   ],
   "metadata": {
    "collapsed": false,
    "pycharm": {
     "name": "#%%\n"
    }
   }
  },
  {
   "cell_type": "code",
   "execution_count": 98,
   "outputs": [
    {
     "name": "stdout",
     "output_type": "stream",
     "text": [
      "Principali quartili: Q1 = 105.0, Q2 = 118.0, Q3 = 126.0\n"
     ]
    }
   ],
   "source": [
    "Q1_x = get_quartile(25)\n",
    "Q2_x = get_quartile(50)\n",
    "Q3_x = get_quartile(75)\n",
    "\n",
    "print(f'Principali quartili: Q1 = {Q1_x}, Q2 = {Q2_x}, Q3 = {Q3_x}')"
   ],
   "metadata": {
    "collapsed": false,
    "pycharm": {
     "name": "#%%\n"
    }
   }
  },
  {
   "cell_type": "markdown",
   "source": [
    "## Calcolo dello scarto interquartile"
   ],
   "metadata": {
    "collapsed": false,
    "pycharm": {
     "name": "#%% md\n"
    }
   }
  },
  {
   "cell_type": "code",
   "execution_count": 99,
   "outputs": [
    {
     "name": "stdout",
     "output_type": "stream",
     "text": [
      "Scarto interquartile: 21.0\n"
     ]
    }
   ],
   "source": [
    "si_x = Q3_x - Q1_x\n",
    "print(f'Scarto interquartile: {si_x}')"
   ],
   "metadata": {
    "collapsed": false,
    "pycharm": {
     "name": "#%%\n"
    }
   }
  },
  {
   "cell_type": "markdown",
   "source": [
    "## Box plot\n",
    "\n",
    "Come si evince dal grafico, non vi sono outliers. Se essi fosse presenti, sarebbero indicati nel grafico come dei punti rossi."
   ],
   "metadata": {
    "collapsed": false,
    "pycharm": {
     "name": "#%% md\n"
    }
   }
  },
  {
   "cell_type": "code",
   "execution_count": 100,
   "outputs": [
    {
     "data": {
      "text/plain": "<Figure size 432x288 with 1 Axes>",
      "image/png": "[encoded data removed]"
     },
     "metadata": {
      "needs_background": "light"
     },
     "output_type": "display_data"
    }
   ],
   "source": [
    "fig, ax = plt.subplots()\n",
    "ax.boxplot(x, flierprops=dict(marker='s', markerfacecolor='red'))\n",
    "ax.set_title('Box plot')\n",
    "ax.yaxis.set_ticks_position('none')\n",
    "ax.grid(axis='y', linestyle='-', linewidth=0.5, color='lightgrey')\n",
    "ax.spines['top'].set_visible(False)\n",
    "ax.spines['right'].set_visible(False)\n",
    "ax.spines['left'].set_visible(False)\n",
    "ax.get_xaxis().set_visible(False)\n",
    "plt.show()"
   ],
   "metadata": {
    "collapsed": false,
    "pycharm": {
     "name": "#%%\n"
    }
   }
  },
  {
   "cell_type": "markdown",
   "source": [
    "# Intervalli di previsione"
   ],
   "metadata": {
    "collapsed": false,
    "pycharm": {
     "name": "#%% md\n"
    }
   }
  },
  {
   "cell_type": "code",
   "execution_count": 101,
   "outputs": [
    {
     "name": "stdout",
     "output_type": "stream",
     "text": [
      "Intervalli di previsione:\n",
      "(105.92939068297724, 128.91543690322965) 54.31%\n",
      "(94.43636757285103, 140.40846001335586) 100.00%\n",
      "(82.94334446272482, 151.90148312348208) 100.00%\n"
     ]
    }
   ],
   "source": [
    "intervallo1_x = (x_mean - s_x, x_mean + s_x)\n",
    "intervallo2_x = (x_mean - 2 * s_x, x_mean + 2 * s_x)\n",
    "intervallo3_x = (x_mean - 3 * s_x, x_mean + 3 * s_x)\n",
    "\n",
    "count1 = 0\n",
    "count2 = 0\n",
    "count3 = 0\n",
    "for x_i in x:\n",
    "    if intervallo1_x[0] < x_i < intervallo1_x[1]:\n",
    "        count1 += 1\n",
    "    if intervallo2_x[0] < x_i < intervallo2_x[1]:\n",
    "        count2 += 1\n",
    "    if intervallo3_x[0] < x_i < intervallo3_x[1]:\n",
    "        count3 += 1\n",
    "\n",
    "print(f'Intervalli di previsione:\\n{intervallo1_x} {(count1 / n) * 100:.2f}%\\n{intervallo2_x} {(count2 / n) * 100:.2f}%\\n{intervallo3_x} {(count3 / n) * 100:.2f}%')"
   ],
   "metadata": {
    "collapsed": false,
    "pycharm": {
     "name": "#%%\n"
    }
   }
  },
  {
   "cell_type": "markdown",
   "source": [
    "# Parsing dei dati delle calorie assunte"
   ],
   "metadata": {
    "collapsed": false,
    "pycharm": {
     "name": "#%% md\n"
    }
   }
  },
  {
   "cell_type": "code",
   "execution_count": 102,
   "outputs": [
    {
     "name": "stdout",
     "output_type": "stream",
     "text": [
      "Numero di ampiezza dei dati prima della eliminazione delle settimane in cui non vi sono state pesate corporee: 138\n"
     ]
    },
    {
     "data": {
      "text/plain": "          data  calorie\n0   2019-10-20   2374.0\n1   2019-10-27   1768.0\n2   2019-11-03   1291.0\n3   2019-11-10   1875.0\n4   2019-11-17   1702.0\n..         ...      ...\n133 2022-05-08   2008.0\n134 2022-05-15   1894.0\n135 2022-05-22   1727.0\n136 2022-05-29   1780.0\n137 2022-06-05   1394.0\n\n[138 rows x 2 columns]",
      "text/html": "<div>\n<style scoped>\n    .dataframe tbody tr th:only-of-type {\n        vertical-align: middle;\n    }\n\n    .dataframe tbody tr th {\n        vertical-align: top;\n    }\n\n    .dataframe thead th {\n        text-align: right;\n    }\n</style>\n<table border=\"1\" class=\"dataframe\">\n  <thead>\n    <tr style=\"text-align: right;\">\n      <th></th>\n      <th>data</th>\n      <th>calorie</th>\n    </tr>\n  </thead>\n  <tbody>\n    <tr>\n      <th>0</th>\n      <td>2019-10-20</td>\n      <td>2374.0</td>\n    </tr>\n    <tr>\n      <th>1</th>\n      <td>2019-10-27</td>\n      <td>1768.0</td>\n    </tr>\n    <tr>\n      <th>2</th>\n      <td>2019-11-03</td>\n      <td>1291.0</td>\n    </tr>\n    <tr>\n      <th>3</th>\n      <td>2019-11-10</td>\n      <td>1875.0</td>\n    </tr>\n    <tr>\n      <th>4</th>\n      <td>2019-11-17</td>\n      <td>1702.0</td>\n    </tr>\n    <tr>\n      <th>...</th>\n      <td>...</td>\n      <td>...</td>\n    </tr>\n    <tr>\n      <th>133</th>\n      <td>2022-05-08</td>\n      <td>2008.0</td>\n    </tr>\n    <tr>\n      <th>134</th>\n      <td>2022-05-15</td>\n      <td>1894.0</td>\n    </tr>\n    <tr>\n      <th>135</th>\n      <td>2022-05-22</td>\n      <td>1727.0</td>\n    </tr>\n    <tr>\n      <th>136</th>\n      <td>2022-05-29</td>\n      <td>1780.0</td>\n    </tr>\n    <tr>\n      <th>137</th>\n      <td>2022-06-05</td>\n      <td>1394.0</td>\n    </tr>\n  </tbody>\n</table>\n<p>138 rows × 2 columns</p>\n</div>"
     },
     "execution_count": 102,
     "metadata": {},
     "output_type": "execute_result"
    }
   ],
   "source": [
    "with open('calorie.csv', 'r') as csvfile:\n",
    "    reader = csv.reader(csvfile, delimiter=',')\n",
    "    calorie = []\n",
    "    reader.__next__()\n",
    "    reader.__next__()\n",
    "    for row in reader:\n",
    "        calorie.append([row[0], float(row[8])])\n",
    "\n",
    "df_calorie = pd.DataFrame(calorie, columns=['data', 'calorie'])\n",
    "df_calorie['data'] = pd.to_datetime(df_calorie['data'])\n",
    "df_calorie = df_calorie.groupby(pd.Grouper(key='data', freq='D')).sum().round(0)\n",
    "df_calorie = df_calorie.reset_index()\n",
    "df_calorie = df_calorie.groupby(pd.Grouper(key='data', freq='W')).mean().round(0)\n",
    "df_calorie = df_calorie.reset_index()\n",
    "print(f'Numero di ampiezza dei dati prima della eliminazione delle settimane in cui non vi sono state pesate corporee: {len(df_calorie)}')\n",
    "df_calorie"
   ],
   "metadata": {
    "collapsed": false,
    "pycharm": {
     "name": "#%%\n"
    }
   }
  },
  {
   "cell_type": "code",
   "execution_count": 103,
   "outputs": [
    {
     "name": "stdout",
     "output_type": "stream",
     "text": [
      "Numero di ampiezza dei dati dopo l'eliminazione delle settimane in cui non vi sono state pesate corporee: 116\n"
     ]
    },
    {
     "data": {
      "text/plain": "     index       data   peso  calorie\n0        0 2019-12-29  140.0   1704.0\n1        2 2020-01-12  140.0   1816.0\n2        4 2020-01-26  139.0   1813.0\n3        5 2020-02-02  139.0   1922.0\n4        8 2020-02-23  138.0   1939.0\n..     ...        ...    ...      ...\n111    123 2022-05-08  105.0   2008.0\n112    124 2022-05-15  104.0   1894.0\n113    125 2022-05-22  104.0   1727.0\n114    126 2022-05-29  103.0   1780.0\n115    127 2022-06-05  102.0   1394.0\n\n[116 rows x 4 columns]",
      "text/html": "<div>\n<style scoped>\n    .dataframe tbody tr th:only-of-type {\n        vertical-align: middle;\n    }\n\n    .dataframe tbody tr th {\n        vertical-align: top;\n    }\n\n    .dataframe thead th {\n        text-align: right;\n    }\n</style>\n<table border=\"1\" class=\"dataframe\">\n  <thead>\n    <tr style=\"text-align: right;\">\n      <th></th>\n      <th>index</th>\n      <th>data</th>\n      <th>peso</th>\n      <th>calorie</th>\n    </tr>\n  </thead>\n  <tbody>\n    <tr>\n      <th>0</th>\n      <td>0</td>\n      <td>2019-12-29</td>\n      <td>140.0</td>\n      <td>1704.0</td>\n    </tr>\n    <tr>\n      <th>1</th>\n      <td>2</td>\n      <td>2020-01-12</td>\n      <td>140.0</td>\n      <td>1816.0</td>\n    </tr>\n    <tr>\n      <th>2</th>\n      <td>4</td>\n      <td>2020-01-26</td>\n      <td>139.0</td>\n      <td>1813.0</td>\n    </tr>\n    <tr>\n      <th>3</th>\n      <td>5</td>\n      <td>2020-02-02</td>\n      <td>139.0</td>\n      <td>1922.0</td>\n    </tr>\n    <tr>\n      <th>4</th>\n      <td>8</td>\n      <td>2020-02-23</td>\n      <td>138.0</td>\n      <td>1939.0</td>\n    </tr>\n    <tr>\n      <th>...</th>\n      <td>...</td>\n      <td>...</td>\n      <td>...</td>\n      <td>...</td>\n    </tr>\n    <tr>\n      <th>111</th>\n      <td>123</td>\n      <td>2022-05-08</td>\n      <td>105.0</td>\n      <td>2008.0</td>\n    </tr>\n    <tr>\n      <th>112</th>\n      <td>124</td>\n      <td>2022-05-15</td>\n      <td>104.0</td>\n      <td>1894.0</td>\n    </tr>\n    <tr>\n      <th>113</th>\n      <td>125</td>\n      <td>2022-05-22</td>\n      <td>104.0</td>\n      <td>1727.0</td>\n    </tr>\n    <tr>\n      <th>114</th>\n      <td>126</td>\n      <td>2022-05-29</td>\n      <td>103.0</td>\n      <td>1780.0</td>\n    </tr>\n    <tr>\n      <th>115</th>\n      <td>127</td>\n      <td>2022-06-05</td>\n      <td>102.0</td>\n      <td>1394.0</td>\n    </tr>\n  </tbody>\n</table>\n<p>116 rows × 4 columns</p>\n</div>"
     },
     "execution_count": 103,
     "metadata": {},
     "output_type": "execute_result"
    }
   ],
   "source": [
    "df_merge = pd.merge(df_peso, df_calorie, on='data', how='inner')\n",
    "df_merge = df_merge.dropna()\n",
    "df_merge = df_merge.reset_index()\n",
    "\n",
    "print(f'Numero di ampiezza dei dati dopo l\\'eliminazione delle settimane in cui non vi sono state pesate corporee: {len(df_merge)}')\n",
    "df_merge"
   ],
   "metadata": {
    "collapsed": false,
    "pycharm": {
     "name": "#%%\n"
    }
   }
  },
  {
   "cell_type": "markdown",
   "source": [
    "# Dati bidimensionali"
   ],
   "metadata": {
    "collapsed": false,
    "pycharm": {
     "name": "#%% md\n"
    }
   }
  },
  {
   "cell_type": "markdown",
   "source": [
    "## Calcolo dei coefficienti di correlazione campionario"
   ],
   "metadata": {
    "collapsed": false,
    "pycharm": {
     "name": "#%% md\n"
    }
   }
  },
  {
   "cell_type": "code",
   "execution_count": 104,
   "outputs": [
    {
     "name": "stdout",
     "output_type": "stream",
     "text": [
      "Coefficiente di correlazione campionario: -0.07087210023488409, è presente una correlazione negativa\n"
     ]
    }
   ],
   "source": [
    "n = len(df_merge)\n",
    "peso_mean = df_merge['peso'].mean()\n",
    "calorie_mean = df_merge['calorie'].mean()\n",
    "s_peso = df_merge['peso'].std()\n",
    "s_calorie = df_merge['calorie'].std()\n",
    "\n",
    "r = 0\n",
    "for i in range(n):\n",
    "    r += (df_merge['peso'][i] - peso_mean) * (df_merge['calorie'][i] - calorie_mean)\n",
    "r = r / ((n - 1) * s_peso * s_calorie)\n",
    "\n",
    "if r > 0:\n",
    "    print(f'Coefficiente di correlazione campionario: {r}, è presente una correlazione positiva')\n",
    "elif r < 0:\n",
    "    print(f'Coefficiente di correlazione campionario: {r}, è presente una correlazione negativa')\n",
    "else:\n",
    "    print(f'Coefficiente di correlazione campionario: {r}, è presente una correlazione nulla')"
   ],
   "metadata": {
    "collapsed": false,
    "pycharm": {
     "name": "#%%\n"
    }
   }
  },
  {
   "cell_type": "markdown",
   "source": [
    "## Diagramma a dispersione (scatter plot)"
   ],
   "metadata": {
    "collapsed": false,
    "pycharm": {
     "name": "#%% md\n"
    }
   }
  },
  {
   "cell_type": "code",
   "execution_count": 105,
   "outputs": [
    {
     "data": {
      "text/plain": "<Figure size 432x288 with 1 Axes>",
      "image/png": "[encoded data removed]"
     },
     "metadata": {
      "needs_background": "light"
     },
     "output_type": "display_data"
    }
   ],
   "source": [
    "fig, ax = plt.subplots()\n",
    "ax.scatter(df_merge['peso'], df_merge['calorie'], s=1)\n",
    "ax.set_xlabel('Peso')\n",
    "ax.set_ylabel('Calorie assunte')\n",
    "\n",
    "plt.show()"
   ],
   "metadata": {
    "collapsed": false,
    "pycharm": {
     "name": "#%%\n"
    }
   }
  },
  {
   "cell_type": "markdown",
   "source": [
    "Quello che emerge dalla correlazione negativa tra il peso e le calorie è che quando il peso era alto, vi era un minore consumo di calorie. Al diminuire del peso, le calorie assunte sono aumentate. In effetti nella realtà questo accadde. Tuttavia, questo non è da interpretare come un evento negativo, poiché l'aumento del consumo delle calorie fu dato dalla maggiore attività fisica.\n",
    "\n",
    "Con i dati da Samsung Health si potrebbero fare molti altri studi, come ad esempio quanto ha influito l'attività fisica sul peso, come è cambiato il battito cardiaco e la pressione sanguigna (la pressione scese di molto), ecc. Con l'incrocio dei dati si potrebbero fare tante cose interessanti."
   ],
   "metadata": {
    "collapsed": false,
    "pycharm": {
     "name": "#%% md\n"
    }
   }
  }
 ],
 "metadata": {
  "kernelspec": {
   "display_name": "Python 3 (ipykernel)",
   "language": "python",
   "name": "python3"
  },
  "language_info": {
   "codemirror_mode": {
    "name": "ipython",
    "version": 3
   },
   "file_extension": ".py",
   "mimetype": "text/x-python",
   "name": "python",
   "nbconvert_exporter": "python",
   "pygments_lexer": "ipython3",
   "version": "3.9.7"
  }
 },
 "nbformat": 4,
 "nbformat_minor": 1
}