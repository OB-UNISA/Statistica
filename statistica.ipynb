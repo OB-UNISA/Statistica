{
 "cells": [
  {
   "cell_type": "markdown",
   "metadata": {
    "pycharm": {
     "name": "#%% md\n"
    }
   },
   "source": [
    "# Introduzione\n",
    "\n",
    "Il codice del progetto è open source con [licenza MIT](https://github.com/OB-UNISA/Statistica/blob/master/LICENSE) ed è possibile trovarlo al seguente link: [https://github.com/OB-UNISA/Statistica](https://github.com/OB-UNISA/Statistica).\n",
    "E' possibile visualizzare una versione interattiva online al seguente link: [https://datalore.jetbrains.com/view/notebook/Gw6zzI6POteIlaH1MaHRyY](https://datalore.jetbrains.com/view/notebook/Gw6zzI6POteIlaH1MaHRyY).\n",
    "\n",
    "I dati unidimensionali esaminati sono quelli del peso corporeo nel periodo di tre anni di un uomo di età 24 attuali.  \n",
    "I dati bidimensionali riguardano il peso corporeo della medesima persona nello stesso periodo e le calorie assunte giornalmente.\n",
    "\n",
    "Il peso corporeo è stato registrato con due bilance differenti, una per il primo anno e un'altra nei restanti e quindi vi potrebbe essere una differenza di misura.  \n",
    "I dati dei primi mesi sulle calorie assunte non sono molto precisi in quanto la quantità del cibo non veniva pesata, ma approssimata.\n",
    "\n",
    "Allo stato dell'arte, importando i dati da Samsung Health, è possibile visualizzare le proprie statistiche. Questo potrebbe non funzionare in futuro se la forma dei dati venisse cambiata, ossia il parsing dei dati non funzionerebbe più. I commenti sui dati, tuttavia, risulteranno inefficienti in quanto non sono dinamici, bensì basati su un campione di esso.\n",
    "\n",
    "Poiché i dati sono molti riguardanti il peso corporeo, circa 500, e sulle calorie assunte, quasi 1000, ne verrà preso un campione calcolato nel seguente modo:\n",
    "* Per il peso corporeo, il campione sarà il peso medio delle pesate in ogni settimana.  \n",
    "  Quindi x_i = peso medio nella settimana i.\n",
    "* Per le calorie assunte, il campione sarà la media delle calorie assunte in ogni settimana.  \n",
    "  Quindi y_i = media delle calorie assunte nella settimana i.\n",
    "\n",
    "**Nota:** Se nella settimana i non vi sono dati sul peso, essa verrà saltata e quindi anche le rispettive calorie assunte.\n",
    "\n",
    "Si è deciso di usare la media campionaria e non la mediana perché i picchi di valore sono importanti da considerare."
   ]
  },
  {
   "cell_type": "markdown",
   "metadata": {
    "pycharm": {
     "name": "#%% md\n"
    }
   },
   "source": [
    "# Installazione dipendenze"
   ]
  },
  {
   "cell_type": "code",
   "execution_count": 103,
   "metadata": {
    "pycharm": {
     "name": "#%%\n"
    }
   },
   "outputs": [
    {
     "name": "stdout",
     "output_type": "stream",
     "text": [
      "Requirement already satisfied: matplotlib in c:\\python397\\lib\\site-packages (3.5.2)\n",
      "Requirement already satisfied: pyparsing>=2.2.1 in c:\\python397\\lib\\site-packages (from matplotlib) (3.0.9)\n",
      "Requirement already satisfied: kiwisolver>=1.0.1 in c:\\python397\\lib\\site-packages (from matplotlib) (1.4.2)\n",
      "Requirement already satisfied: python-dateutil>=2.7 in c:\\python397\\lib\\site-packages (from matplotlib) (2.8.2)\n",
      "Requirement already satisfied: cycler>=0.10 in c:\\python397\\lib\\site-packages (from matplotlib) (0.11.0)\n",
      "Requirement already satisfied: numpy>=1.17 in c:\\python397\\lib\\site-packages (from matplotlib) (1.22.4)\n",
      "Requirement already satisfied: packaging>=20.0 in c:\\python397\\lib\\site-packages (from matplotlib) (21.3)\n",
      "Requirement already satisfied: pillow>=6.2.0 in c:\\python397\\lib\\site-packages (from matplotlib) (9.1.1)\n",
      "Requirement already satisfied: fonttools>=4.22.0 in c:\\python397\\lib\\site-packages (from matplotlib) (4.33.3)\n",
      "Requirement already satisfied: six>=1.5 in c:\\python397\\lib\\site-packages (from python-dateutil>=2.7->matplotlib) (1.16.0)\n",
      "Requirement already satisfied: pandas in c:\\python397\\lib\\site-packages (1.4.2)\n",
      "Requirement already satisfied: python-dateutil>=2.8.1 in c:\\python397\\lib\\site-packages (from pandas) (2.8.2)\n",
      "Requirement already satisfied: pytz>=2020.1 in c:\\python397\\lib\\site-packages (from pandas) (2022.1)\n",
      "Requirement already satisfied: numpy>=1.18.5 in c:\\python397\\lib\\site-packages (from pandas) (1.22.4)\n",
      "Requirement already satisfied: six>=1.5 in c:\\python397\\lib\\site-packages (from python-dateutil>=2.8.1->pandas) (1.16.0)\n"
     ]
    }
   ],
   "source": [
    "!pip install matplotlib\n",
    "!pip install pandas"
   ]
  },
  {
   "cell_type": "code",
   "execution_count": 104,
   "metadata": {
    "pycharm": {
     "name": "#%%\n"
    }
   },
   "outputs": [],
   "source": [
    "import matplotlib.pyplot as plt\n",
    "import pandas as pd\n",
    "import csv"
   ]
  },
  {
   "cell_type": "markdown",
   "metadata": {
    "pycharm": {
     "name": "#%% md\n"
    }
   },
   "source": [
    "# Parsing dei dati del peso corporeo"
   ]
  },
  {
   "cell_type": "markdown",
   "metadata": {
    "pycharm": {
     "name": "#%% md\n"
    }
   },
   "source": [
    "È stato necessario arrotondare i valori del peso corporeo perché altrimenti si avrebbe avuto il numero di modalità del carattere quasi uguale all'ampiezza del dato."
   ]
  },
  {
   "cell_type": "code",
   "execution_count": 105,
   "metadata": {
    "pycharm": {
     "name": "#%%\n"
    }
   },
   "outputs": [
    {
     "data": {
      "text/plain": "             peso\ndata             \n2019-12-29  140.0\n2020-01-05    NaN\n2020-01-12  140.0\n2020-01-19    NaN\n2020-01-26  139.0\n...           ...\n2022-05-08  105.0\n2022-05-15  104.0\n2022-05-22  104.0\n2022-05-29  103.0\n2022-06-05  102.0\n\n[128 rows x 1 columns]",
      "text/html": "<div>\n<style scoped>\n    .dataframe tbody tr th:only-of-type {\n        vertical-align: middle;\n    }\n\n    .dataframe tbody tr th {\n        vertical-align: top;\n    }\n\n    .dataframe thead th {\n        text-align: right;\n    }\n</style>\n<table border=\"1\" class=\"dataframe\">\n  <thead>\n    <tr style=\"text-align: right;\">\n      <th></th>\n      <th>peso</th>\n    </tr>\n    <tr>\n      <th>data</th>\n      <th></th>\n    </tr>\n  </thead>\n  <tbody>\n    <tr>\n      <th>2019-12-29</th>\n      <td>140.0</td>\n    </tr>\n    <tr>\n      <th>2020-01-05</th>\n      <td>NaN</td>\n    </tr>\n    <tr>\n      <th>2020-01-12</th>\n      <td>140.0</td>\n    </tr>\n    <tr>\n      <th>2020-01-19</th>\n      <td>NaN</td>\n    </tr>\n    <tr>\n      <th>2020-01-26</th>\n      <td>139.0</td>\n    </tr>\n    <tr>\n      <th>...</th>\n      <td>...</td>\n    </tr>\n    <tr>\n      <th>2022-05-08</th>\n      <td>105.0</td>\n    </tr>\n    <tr>\n      <th>2022-05-15</th>\n      <td>104.0</td>\n    </tr>\n    <tr>\n      <th>2022-05-22</th>\n      <td>104.0</td>\n    </tr>\n    <tr>\n      <th>2022-05-29</th>\n      <td>103.0</td>\n    </tr>\n    <tr>\n      <th>2022-06-05</th>\n      <td>102.0</td>\n    </tr>\n  </tbody>\n</table>\n<p>128 rows × 1 columns</p>\n</div>"
     },
     "execution_count": 105,
     "metadata": {},
     "output_type": "execute_result"
    }
   ],
   "source": [
    "with open('peso.csv', 'r') as csvfile:\n",
    "    reader = csv.reader(csvfile, delimiter=',')\n",
    "    peso = []\n",
    "    reader.__next__()\n",
    "    reader.__next__()\n",
    "    for row in reader:\n",
    "        peso.append([row[6], float(row[4])])\n",
    "\n",
    "df_peso = pd.DataFrame(peso, columns=['data', 'peso'])\n",
    "df_peso['data'] = pd.to_datetime(df_peso['data'])\n",
    "df_peso = df_peso.groupby(pd.Grouper(key='data', freq='W')).mean().round(0)\n",
    "df_peso"
   ]
  },
  {
   "cell_type": "markdown",
   "source": [
    "Sono state eliminate le settimane in cui non vi erano dati."
   ],
   "metadata": {
    "collapsed": false,
    "pycharm": {
     "name": "#%% md\n"
    }
   }
  },
  {
   "cell_type": "code",
   "execution_count": 106,
   "outputs": [
    {
     "name": "stdout",
     "output_type": "stream",
     "text": [
      "Ampiezza del dato: 115\n",
      "x_(1)=102 x_(2)=102 x_(3)=103 x_(4)=103 x_(5)=103 x_(6)=103 x_(7)=103 x_(8)=103 x_(9)=103 x_(10)=103 x_(11)=103 x_(12)=104 x_(13)=104 x_(14)=104 x_(15)=104 x_(16)=104 x_(17)=104 x_(18)=104 x_(19)=104 x_(20)=104 x_(21)=105 x_(22)=105 x_(23)=105 x_(24)=105 x_(25)=105 x_(26)=105 x_(27)=105 x_(28)=105 x_(29)=105 x_(30)=105 x_(31)=106 x_(32)=106 x_(33)=106 x_(34)=106 x_(35)=106 x_(36)=107 x_(37)=107 x_(38)=108 x_(39)=108 x_(40)=108 x_(41)=109 x_(42)=109 x_(43)=110 x_(44)=111 x_(45)=111 x_(46)=112 x_(47)=112 x_(48)=113 x_(49)=114 x_(50)=115 x_(51)=116 x_(52)=117 x_(53)=117 x_(54)=117 x_(55)=117 x_(56)=117 x_(57)=117 x_(58)=117 x_(59)=118 x_(60)=118 x_(61)=118 x_(62)=118 x_(63)=118 x_(64)=118 x_(65)=118 x_(66)=119 x_(67)=120 x_(68)=121 x_(69)=121 x_(70)=121 x_(71)=121 x_(72)=122 x_(73)=122 x_(74)=122 x_(75)=122 x_(76)=122 x_(77)=123 x_(78)=124 x_(79)=124 x_(80)=125 x_(81)=125 x_(82)=125 x_(83)=126 x_(84)=126 x_(85)=126 x_(86)=126 x_(87)=126 x_(88)=127 x_(89)=127 x_(90)=127 x_(91)=128 x_(92)=128 x_(93)=129 x_(94)=129 x_(95)=129 x_(96)=130 x_(97)=130 x_(98)=131 x_(99)=131 x_(100)=132 x_(101)=132 x_(102)=133 x_(103)=133 x_(104)=134 x_(105)=134 x_(106)=135 x_(107)=136 x_(108)=137 x_(109)=137 x_(110)=138 x_(111)=138 x_(112)=139 x_(113)=139 x_(114)=140 x_(115)=140 "
     ]
    }
   ],
   "source": [
    "x_not_sorted = [int(p) for p in df_peso['peso'] if not pd.isnull(p)]\n",
    "x = sorted(x_not_sorted)\n",
    "n = len(x)\n",
    "print(f'Ampiezza del dato: {n}')\n",
    "for i, x_i in enumerate(x):\n",
    "    print(f'x_({i + 1})={x_i}', end=' ')"
   ],
   "metadata": {
    "collapsed": false,
    "pycharm": {
     "name": "#%%\n"
    }
   }
  },
  {
   "cell_type": "markdown",
   "metadata": {
    "pycharm": {
     "name": "#%% md\n"
    }
   },
   "source": [
    "# Costruzione della tabella delle frequenze"
   ]
  },
  {
   "cell_type": "markdown",
   "metadata": {
    "pycharm": {
     "name": "#%% md\n"
    }
   },
   "source": [
    "## Calcolo delle modalità"
   ]
  },
  {
   "cell_type": "code",
   "execution_count": 107,
   "metadata": {
    "pycharm": {
     "name": "#%%\n"
    }
   },
   "outputs": [
    {
     "name": "stdout",
     "output_type": "stream",
     "text": [
      "v_1=102 v_2=103 v_3=104 v_4=105 v_5=106 v_6=107 v_7=108 v_8=109 v_9=110 v_10=111 v_11=112 v_12=113 v_13=114 v_14=115 v_15=116 v_16=117 v_17=118 v_18=119 v_19=120 v_20=121 v_21=122 v_22=123 v_23=124 v_24=125 v_25=126 v_26=127 v_27=128 v_28=129 v_29=130 v_30=131 v_31=132 v_32=133 v_33=134 v_34=135 v_35=136 v_36=137 v_37=138 v_38=139 v_39=140 "
     ]
    }
   ],
   "source": [
    "v_x = [x[0]]\n",
    "for i in range(1, len(x)):\n",
    "    if v_x[-1] != x[i]:\n",
    "        v_x.append(x[i])\n",
    "\n",
    "for i, v_i in enumerate(v_x):\n",
    "    print(f'v_{i + 1}={v_i}', end=' ')"
   ]
  },
  {
   "cell_type": "markdown",
   "metadata": {
    "pycharm": {
     "name": "#%% md\n"
    }
   },
   "source": [
    "## Calcolo della frequenza assoluta delle modalità"
   ]
  },
  {
   "cell_type": "code",
   "execution_count": 108,
   "metadata": {
    "pycharm": {
     "name": "#%%\n"
    }
   },
   "outputs": [
    {
     "name": "stdout",
     "output_type": "stream",
     "text": [
      "f_1=2 f_2=9 f_3=9 f_4=10 f_5=5 f_6=2 f_7=3 f_8=2 f_9=1 f_10=2 f_11=2 f_12=1 f_13=1 f_14=1 f_15=1 f_16=7 f_17=7 f_18=1 f_19=1 f_20=4 f_21=5 f_22=1 f_23=2 f_24=3 f_25=5 f_26=3 f_27=2 f_28=3 f_29=2 f_30=2 f_31=2 f_32=2 f_33=2 f_34=1 f_35=1 f_36=2 f_37=2 f_38=2 f_39=2 "
     ]
    }
   ],
   "source": [
    "f_x = [1]\n",
    "for i in range(1, len(x)):\n",
    "    if x[i - 1] == x[i]:\n",
    "        f_x[-1] += 1\n",
    "    else:\n",
    "        f_x.append(1)\n",
    "\n",
    "for i, f_i in enumerate(f_x):\n",
    "    print(f'f_{i + 1}={f_i}', end=' ')"
   ]
  },
  {
   "cell_type": "markdown",
   "metadata": {
    "pycharm": {
     "name": "#%% md\n"
    }
   },
   "source": [
    "## Calcolo della frequenza cumulativa assoluta delle modalità"
   ]
  },
  {
   "cell_type": "code",
   "execution_count": 109,
   "metadata": {
    "pycharm": {
     "name": "#%%\n"
    }
   },
   "outputs": [
    {
     "name": "stdout",
     "output_type": "stream",
     "text": [
      "F_1=2 F_2=11 F_3=20 F_4=30 F_5=35 F_6=37 F_7=40 F_8=42 F_9=43 F_10=45 F_11=47 F_12=48 F_13=49 F_14=50 F_15=51 F_16=58 F_17=65 F_18=66 F_19=67 F_20=71 F_21=76 F_22=77 F_23=79 F_24=82 F_25=87 F_26=90 F_27=92 F_28=95 F_29=97 F_30=99 F_31=101 F_32=103 F_33=105 F_34=106 F_35=107 F_36=109 F_37=111 F_38=113 F_39=115 "
     ]
    }
   ],
   "source": [
    "F_x = [f_x[0]]\n",
    "for i in range(1, len(f_x)):\n",
    "    # Uso della relazione di ricorrenza\n",
    "    F_x.append(F_x[-1] + f_x[i])\n",
    "\n",
    "for i, F_i in enumerate(F_x):\n",
    "    print(f'F_{i + 1}={F_i}', end=' ')"
   ]
  },
  {
   "cell_type": "markdown",
   "metadata": {
    "pycharm": {
     "name": "#%% md\n"
    }
   },
   "source": [
    "## Calcolo della frequenza relativa delle modalità"
   ]
  },
  {
   "cell_type": "code",
   "execution_count": 110,
   "metadata": {
    "pycharm": {
     "name": "#%%\n"
    }
   },
   "outputs": [
    {
     "name": "stdout",
     "output_type": "stream",
     "text": [
      "p_1=0.017 p_2=0.078 p_3=0.078 p_4=0.087 p_5=0.043 p_6=0.017 p_7=0.026 p_8=0.017 p_9=0.009 p_10=0.017 p_11=0.017 p_12=0.009 p_13=0.009 p_14=0.009 p_15=0.009 p_16=0.061 p_17=0.061 p_18=0.009 p_19=0.009 p_20=0.035 p_21=0.043 p_22=0.009 p_23=0.017 p_24=0.026 p_25=0.043 p_26=0.026 p_27=0.017 p_28=0.026 p_29=0.017 p_30=0.017 p_31=0.017 p_32=0.017 p_33=0.017 p_34=0.009 p_35=0.009 p_36=0.017 p_37=0.017 p_38=0.017 p_39=0.017 "
     ]
    }
   ],
   "source": [
    "p_x = []\n",
    "for f_i in f_x:\n",
    "    p_x.append(f_i / n)\n",
    "\n",
    "for i, p_i in enumerate(p_x):\n",
    "    print(f'p_{i + 1}={p_i:.3f}', end=' ')"
   ]
  },
  {
   "cell_type": "markdown",
   "metadata": {
    "pycharm": {
     "name": "#%% md\n"
    }
   },
   "source": [
    "## Calcolo della frequenza cumulativa relativa delle modalità"
   ]
  },
  {
   "cell_type": "code",
   "execution_count": 111,
   "metadata": {
    "pycharm": {
     "name": "#%%\n"
    }
   },
   "outputs": [
    {
     "name": "stdout",
     "output_type": "stream",
     "text": [
      "P_1=0.017 P_2=0.096 P_3=0.174 P_4=0.261 P_5=0.304 P_6=0.322 P_7=0.348 P_8=0.365 P_9=0.374 P_10=0.391 P_11=0.409 P_12=0.417 P_13=0.426 P_14=0.435 P_15=0.443 P_16=0.504 P_17=0.565 P_18=0.574 P_19=0.583 P_20=0.617 P_21=0.661 P_22=0.670 P_23=0.687 P_24=0.713 P_25=0.757 P_26=0.783 P_27=0.800 P_28=0.826 P_29=0.843 P_30=0.861 P_31=0.878 P_32=0.896 P_33=0.913 P_34=0.922 P_35=0.930 P_36=0.948 P_37=0.965 P_38=0.983 P_39=1.000 "
     ]
    }
   ],
   "source": [
    "P_x = []\n",
    "for F_i in F_x:\n",
    "    P_x.append(F_i / n)\n",
    "\n",
    "for i, P_i in enumerate(P_x):\n",
    "    print(f'P_{i + 1}={P_i:.3f}', end=' ')"
   ]
  },
  {
   "cell_type": "markdown",
   "metadata": {
    "pycharm": {
     "name": "#%% md\n"
    }
   },
   "source": [
    "## Tabella delle frequenze"
   ]
  },
  {
   "cell_type": "code",
   "execution_count": 112,
   "outputs": [
    {
     "data": {
      "text/plain": "    v_i  f_i       p_i  F_i       P_i\ni                                    \n1   102    2  0.017391    2  0.017391\n2   103    9  0.078261   11  0.095652\n3   104    9  0.078261   20  0.173913\n4   105   10  0.086957   30  0.260870\n5   106    5  0.043478   35  0.304348\n6   107    2  0.017391   37  0.321739\n7   108    3  0.026087   40  0.347826\n8   109    2  0.017391   42  0.365217\n9   110    1  0.008696   43  0.373913\n10  111    2  0.017391   45  0.391304\n11  112    2  0.017391   47  0.408696\n12  113    1  0.008696   48  0.417391\n13  114    1  0.008696   49  0.426087\n14  115    1  0.008696   50  0.434783\n15  116    1  0.008696   51  0.443478\n16  117    7  0.060870   58  0.504348\n17  118    7  0.060870   65  0.565217\n18  119    1  0.008696   66  0.573913\n19  120    1  0.008696   67  0.582609\n20  121    4  0.034783   71  0.617391\n21  122    5  0.043478   76  0.660870\n22  123    1  0.008696   77  0.669565\n23  124    2  0.017391   79  0.686957\n24  125    3  0.026087   82  0.713043\n25  126    5  0.043478   87  0.756522\n26  127    3  0.026087   90  0.782609\n27  128    2  0.017391   92  0.800000\n28  129    3  0.026087   95  0.826087\n29  130    2  0.017391   97  0.843478\n30  131    2  0.017391   99  0.860870\n31  132    2  0.017391  101  0.878261\n32  133    2  0.017391  103  0.895652\n33  134    2  0.017391  105  0.913043\n34  135    1  0.008696  106  0.921739\n35  136    1  0.008696  107  0.930435\n36  137    2  0.017391  109  0.947826\n37  138    2  0.017391  111  0.965217\n38  139    2  0.017391  113  0.982609\n39  140    2  0.017391  115  1.000000",
      "text/html": "<div>\n<style scoped>\n    .dataframe tbody tr th:only-of-type {\n        vertical-align: middle;\n    }\n\n    .dataframe tbody tr th {\n        vertical-align: top;\n    }\n\n    .dataframe thead th {\n        text-align: right;\n    }\n</style>\n<table border=\"1\" class=\"dataframe\">\n  <thead>\n    <tr style=\"text-align: right;\">\n      <th></th>\n      <th>v_i</th>\n      <th>f_i</th>\n      <th>p_i</th>\n      <th>F_i</th>\n      <th>P_i</th>\n    </tr>\n    <tr>\n      <th>i</th>\n      <th></th>\n      <th></th>\n      <th></th>\n      <th></th>\n      <th></th>\n    </tr>\n  </thead>\n  <tbody>\n    <tr>\n      <th>1</th>\n      <td>102</td>\n      <td>2</td>\n      <td>0.017391</td>\n      <td>2</td>\n      <td>0.017391</td>\n    </tr>\n    <tr>\n      <th>2</th>\n      <td>103</td>\n      <td>9</td>\n      <td>0.078261</td>\n      <td>11</td>\n      <td>0.095652</td>\n    </tr>\n    <tr>\n      <th>3</th>\n      <td>104</td>\n      <td>9</td>\n      <td>0.078261</td>\n      <td>20</td>\n      <td>0.173913</td>\n    </tr>\n    <tr>\n      <th>4</th>\n      <td>105</td>\n      <td>10</td>\n      <td>0.086957</td>\n      <td>30</td>\n      <td>0.260870</td>\n    </tr>\n    <tr>\n      <th>5</th>\n      <td>106</td>\n      <td>5</td>\n      <td>0.043478</td>\n      <td>35</td>\n      <td>0.304348</td>\n    </tr>\n    <tr>\n      <th>6</th>\n      <td>107</td>\n      <td>2</td>\n      <td>0.017391</td>\n      <td>37</td>\n      <td>0.321739</td>\n    </tr>\n    <tr>\n      <th>7</th>\n      <td>108</td>\n      <td>3</td>\n      <td>0.026087</td>\n      <td>40</td>\n      <td>0.347826</td>\n    </tr>\n    <tr>\n      <th>8</th>\n      <td>109</td>\n      <td>2</td>\n      <td>0.017391</td>\n      <td>42</td>\n      <td>0.365217</td>\n    </tr>\n    <tr>\n      <th>9</th>\n      <td>110</td>\n      <td>1</td>\n      <td>0.008696</td>\n      <td>43</td>\n      <td>0.373913</td>\n    </tr>\n    <tr>\n      <th>10</th>\n      <td>111</td>\n      <td>2</td>\n      <td>0.017391</td>\n      <td>45</td>\n      <td>0.391304</td>\n    </tr>\n    <tr>\n      <th>11</th>\n      <td>112</td>\n      <td>2</td>\n      <td>0.017391</td>\n      <td>47</td>\n      <td>0.408696</td>\n    </tr>\n    <tr>\n      <th>12</th>\n      <td>113</td>\n      <td>1</td>\n      <td>0.008696</td>\n      <td>48</td>\n      <td>0.417391</td>\n    </tr>\n    <tr>\n      <th>13</th>\n      <td>114</td>\n      <td>1</td>\n      <td>0.008696</td>\n      <td>49</td>\n      <td>0.426087</td>\n    </tr>\n    <tr>\n      <th>14</th>\n      <td>115</td>\n      <td>1</td>\n      <td>0.008696</td>\n      <td>50</td>\n      <td>0.434783</td>\n    </tr>\n    <tr>\n      <th>15</th>\n      <td>116</td>\n      <td>1</td>\n      <td>0.008696</td>\n      <td>51</td>\n      <td>0.443478</td>\n    </tr>\n    <tr>\n      <th>16</th>\n      <td>117</td>\n      <td>7</td>\n      <td>0.060870</td>\n      <td>58</td>\n      <td>0.504348</td>\n    </tr>\n    <tr>\n      <th>17</th>\n      <td>118</td>\n      <td>7</td>\n      <td>0.060870</td>\n      <td>65</td>\n      <td>0.565217</td>\n    </tr>\n    <tr>\n      <th>18</th>\n      <td>119</td>\n      <td>1</td>\n      <td>0.008696</td>\n      <td>66</td>\n      <td>0.573913</td>\n    </tr>\n    <tr>\n      <th>19</th>\n      <td>120</td>\n      <td>1</td>\n      <td>0.008696</td>\n      <td>67</td>\n      <td>0.582609</td>\n    </tr>\n    <tr>\n      <th>20</th>\n      <td>121</td>\n      <td>4</td>\n      <td>0.034783</td>\n      <td>71</td>\n      <td>0.617391</td>\n    </tr>\n    <tr>\n      <th>21</th>\n      <td>122</td>\n      <td>5</td>\n      <td>0.043478</td>\n      <td>76</td>\n      <td>0.660870</td>\n    </tr>\n    <tr>\n      <th>22</th>\n      <td>123</td>\n      <td>1</td>\n      <td>0.008696</td>\n      <td>77</td>\n      <td>0.669565</td>\n    </tr>\n    <tr>\n      <th>23</th>\n      <td>124</td>\n      <td>2</td>\n      <td>0.017391</td>\n      <td>79</td>\n      <td>0.686957</td>\n    </tr>\n    <tr>\n      <th>24</th>\n      <td>125</td>\n      <td>3</td>\n      <td>0.026087</td>\n      <td>82</td>\n      <td>0.713043</td>\n    </tr>\n    <tr>\n      <th>25</th>\n      <td>126</td>\n      <td>5</td>\n      <td>0.043478</td>\n      <td>87</td>\n      <td>0.756522</td>\n    </tr>\n    <tr>\n      <th>26</th>\n      <td>127</td>\n      <td>3</td>\n      <td>0.026087</td>\n      <td>90</td>\n      <td>0.782609</td>\n    </tr>\n    <tr>\n      <th>27</th>\n      <td>128</td>\n      <td>2</td>\n      <td>0.017391</td>\n      <td>92</td>\n      <td>0.800000</td>\n    </tr>\n    <tr>\n      <th>28</th>\n      <td>129</td>\n      <td>3</td>\n      <td>0.026087</td>\n      <td>95</td>\n      <td>0.826087</td>\n    </tr>\n    <tr>\n      <th>29</th>\n      <td>130</td>\n      <td>2</td>\n      <td>0.017391</td>\n      <td>97</td>\n      <td>0.843478</td>\n    </tr>\n    <tr>\n      <th>30</th>\n      <td>131</td>\n      <td>2</td>\n      <td>0.017391</td>\n      <td>99</td>\n      <td>0.860870</td>\n    </tr>\n    <tr>\n      <th>31</th>\n      <td>132</td>\n      <td>2</td>\n      <td>0.017391</td>\n      <td>101</td>\n      <td>0.878261</td>\n    </tr>\n    <tr>\n      <th>32</th>\n      <td>133</td>\n      <td>2</td>\n      <td>0.017391</td>\n      <td>103</td>\n      <td>0.895652</td>\n    </tr>\n    <tr>\n      <th>33</th>\n      <td>134</td>\n      <td>2</td>\n      <td>0.017391</td>\n      <td>105</td>\n      <td>0.913043</td>\n    </tr>\n    <tr>\n      <th>34</th>\n      <td>135</td>\n      <td>1</td>\n      <td>0.008696</td>\n      <td>106</td>\n      <td>0.921739</td>\n    </tr>\n    <tr>\n      <th>35</th>\n      <td>136</td>\n      <td>1</td>\n      <td>0.008696</td>\n      <td>107</td>\n      <td>0.930435</td>\n    </tr>\n    <tr>\n      <th>36</th>\n      <td>137</td>\n      <td>2</td>\n      <td>0.017391</td>\n      <td>109</td>\n      <td>0.947826</td>\n    </tr>\n    <tr>\n      <th>37</th>\n      <td>138</td>\n      <td>2</td>\n      <td>0.017391</td>\n      <td>111</td>\n      <td>0.965217</td>\n    </tr>\n    <tr>\n      <th>38</th>\n      <td>139</td>\n      <td>2</td>\n      <td>0.017391</td>\n      <td>113</td>\n      <td>0.982609</td>\n    </tr>\n    <tr>\n      <th>39</th>\n      <td>140</td>\n      <td>2</td>\n      <td>0.017391</td>\n      <td>115</td>\n      <td>1.000000</td>\n    </tr>\n  </tbody>\n</table>\n</div>"
     },
     "execution_count": 112,
     "metadata": {},
     "output_type": "execute_result"
    }
   ],
   "source": [
    "data_table = []\n",
    "for i in range(len(v_x)):\n",
    "    data_table.append([i + 1, v_x[i], f_x[i], p_x[i], F_x[i], P_x[i]])\n",
    "\n",
    "df_data_table = pd.DataFrame(data_table, columns=['i', 'v_i', 'f_i', 'p_i', 'F_i', 'P_i'])\n",
    "df_data_table.set_index('i', inplace=True)\n",
    "df_data_table"
   ],
   "metadata": {
    "collapsed": false,
    "pycharm": {
     "name": "#%%\n"
    }
   }
  },
  {
   "cell_type": "markdown",
   "source": [
    "# Grafici della distribuzione delle frequenze assolute"
   ],
   "metadata": {
    "collapsed": false,
    "pycharm": {
     "name": "#%% md\n"
    }
   }
  },
  {
   "cell_type": "markdown",
   "source": [
    "## Grafico a linee"
   ],
   "metadata": {
    "collapsed": false,
    "pycharm": {
     "name": "#%% md\n"
    }
   }
  },
  {
   "cell_type": "code",
   "execution_count": 113,
   "outputs": [
    {
     "data": {
      "text/plain": "<Figure size 432x288 with 1 Axes>",
      "image/png": "[encoded data removed]"
     },
     "metadata": {
      "needs_background": "light"
     },
     "output_type": "display_data"
    }
   ],
   "source": [
    "fig, ax = plt.subplots()\n",
    "ax.plot(v_x, f_x, '-o')\n",
    "ax.set_title('Distribuzione delle frequenze assolute')\n",
    "ax.set_xlabel(r'$v_i$')\n",
    "ax.set_ylabel(r'$f_i$')\n",
    "ax.grid()\n",
    "\n",
    "plt.show()"
   ],
   "metadata": {
    "collapsed": false,
    "pycharm": {
     "name": "#%%\n"
    }
   }
  },
  {
   "cell_type": "markdown",
   "source": [
    "## Istogramma"
   ],
   "metadata": {
    "collapsed": false,
    "pycharm": {
     "name": "#%% md\n"
    }
   }
  },
  {
   "cell_type": "code",
   "execution_count": 114,
   "outputs": [],
   "source": [
    "def plot_histogram_classe(ampiezza_classe):\n",
    "    min_value = x[0]\n",
    "    max_value = x[n - 1]\n",
    "\n",
    "    fig, ax = plt.subplots()\n",
    "    values, bins, bars = ax.hist(x, bins=list(range(min_value, max_value + ampiezza_classe, ampiezza_classe)), edgecolor='black', linewidth=1.5)\n",
    "\n",
    "    ax.set_xticks(bins)\n",
    "    ax.bar_label(bars)\n",
    "    ax.set_title(f'Distribuzione delle frequenze assolute con classe di ampiezza {ampiezza_classe}')\n",
    "    ax.grid()\n",
    "    ax.set_xlabel(r'$v_i$')\n",
    "    ax.set_ylabel(r'$f_i$')\n",
    "\n",
    "    plt.show()"
   ],
   "metadata": {
    "collapsed": false,
    "pycharm": {
     "name": "#%%\n"
    }
   }
  },
  {
   "cell_type": "code",
   "execution_count": 115,
   "outputs": [
    {
     "data": {
      "text/plain": "<Figure size 432x288 with 1 Axes>",
      "image/png": "[encoded data removed]"
     },
     "metadata": {
      "needs_background": "light"
     },
     "output_type": "display_data"
    }
   ],
   "source": [
    "plot_histogram_classe(3)"
   ],
   "metadata": {
    "collapsed": false,
    "pycharm": {
     "name": "#%%\n"
    }
   }
  },
  {
   "cell_type": "code",
   "execution_count": 116,
   "outputs": [
    {
     "data": {
      "text/plain": "<Figure size 432x288 with 1 Axes>",
      "image/png": "[encoded data removed]"
     },
     "metadata": {
      "needs_background": "light"
     },
     "output_type": "display_data"
    }
   ],
   "source": [
    "plot_histogram_classe(5)"
   ],
   "metadata": {
    "collapsed": false,
    "pycharm": {
     "name": "#%%\n"
    }
   }
  },
  {
   "cell_type": "markdown",
   "source": [],
   "metadata": {
    "collapsed": false,
    "pycharm": {
     "name": "#%% md\n"
    }
   }
  }
 ],
 "metadata": {
  "kernelspec": {
   "display_name": "Python 3 (ipykernel)",
   "language": "python",
   "name": "python3"
  },
  "language_info": {
   "codemirror_mode": {
    "name": "ipython",
    "version": 3
   },
   "file_extension": ".py",
   "mimetype": "text/x-python",
   "name": "python",
   "nbconvert_exporter": "python",
   "pygments_lexer": "ipython3",
   "version": "3.9.7"
  }
 },
 "nbformat": 4,
 "nbformat_minor": 1
}